{
 "cells": [
  {
   "cell_type": "markdown",
   "metadata": {},
   "source": [
    "Number Star pattern 1\n",
    " 5432*\n",
    " 543*1\n",
    " 54*21\n",
    " 5*321\n",
    " *4321"
   ]
  },
  {
   "cell_type": "code",
   "execution_count": null,
   "metadata": {},
   "outputs": [],
   "source": [
    "n=int(input())\n",
    "i=1  \n",
    "while(i<=n): \n",
    "    j=n  \n",
    "    while (j>=1):  \n",
    "        if j!=i:  \n",
    "            print(j, end='')  \n",
    "        else:  \n",
    "            print('*', end='')  \n",
    "        j=j-1  \n",
    "    print(\"\")  \n",
    "    i=i+1  "
   ]
  },
  {
   "cell_type": "markdown",
   "metadata": {},
   "source": [
    "Zeros and Stars Pattern"
   ]
  },
  {
   "cell_type": "code",
   "execution_count": null,
   "metadata": {},
   "outputs": [],
   "source": [
    "n=int(input())\n",
    "start=1\n",
    "end=2*n+1\n",
    "mid=n+1\n",
    "row=1\n",
    "while(row<=n):\n",
    "    column=1\n",
    "    while column<=(2*n+1):\n",
    "        if column==start or column==end or column==mid:\n",
    "            print(\"*\",end='')\n",
    "        else:\n",
    "            print(\"0\",end=\"\")\n",
    "        column=column+1\n",
    "    start=start+1\n",
    "    end=end-1\n",
    "    row=row+1\n",
    "    print()"
   ]
  },
  {
   "cell_type": "markdown",
   "metadata": {},
   "source": [
    "Check Armstrong"
   ]
  },
  {
   "cell_type": "code",
   "execution_count": null,
   "metadata": {},
   "outputs": [],
   "source": [
    "n=int(input())\n",
    "no_of_digits=0\n",
    "org_n=n\n",
    "orginal_no=n\n",
    "Armstrong=0\n",
    "while n>0:\n",
    "    no_of_digits+=1\n",
    "    n=n//10\n",
    "while org_n>0:\n",
    "    Last_Digit = org_n % 10\n",
    "    Armstrong  = Armstrong  + ((Last_Digit)**(no_of_digits))\n",
    "    org_n = (org_n //10)\n",
    "if orginal_no==Armstrong:\n",
    "    print(\"true\")\n",
    "else:\n",
    "    print(\"false\")"
   ]
  },
  {
   "cell_type": "code",
   "execution_count": 1,
   "metadata": {},
   "outputs": [
    {
     "name": "stdout",
     "output_type": "stream",
     "text": [
      "5\n",
      "E\n",
      "DE\n",
      "CDE\n",
      "BCDE\n",
      "ABCDE\n"
     ]
    }
   ],
   "source": [
    "n=int(input())\n",
    "i=1\n",
    "while i<=n:\n",
    "    j=1\n",
    "    char=ord('A')+n-i\n",
    "    while j<=i:\n",
    "        print(chr(char+j-1),end=\"\")\n",
    "        j=j+1\n",
    "    print()\n",
    "    i=i+1"
   ]
  },
  {
   "cell_type": "code",
   "execution_count": null,
   "metadata": {},
   "outputs": [],
   "source": []
  }
 ],
 "metadata": {
  "kernelspec": {
   "display_name": "Python 3",
   "language": "python",
   "name": "python3"
  },
  "language_info": {
   "codemirror_mode": {
    "name": "ipython",
    "version": 3
   },
   "file_extension": ".py",
   "mimetype": "text/x-python",
   "name": "python",
   "nbconvert_exporter": "python",
   "pygments_lexer": "ipython3",
   "version": "3.8.5"
  }
 },
 "nbformat": 4,
 "nbformat_minor": 4
}
