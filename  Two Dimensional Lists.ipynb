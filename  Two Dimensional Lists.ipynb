{
 "cells": [
  {
   "cell_type": "markdown",
   "metadata": {},
   "source": [
    "Row Wise Sum"
   ]
  },
  {
   "cell_type": "code",
   "execution_count": null,
   "metadata": {},
   "outputs": [],
   "source": [
    "p=int(input())\n",
    "for i in range(p):\n",
    "    str=input().split()\n",
    "    n,m=int(str[0]),int(str[1])\n",
    "    arr=[]\n",
    "    for i in range(n):\n",
    "        b=input().split()\n",
    "        arrr=[int(x) for x in b]\n",
    "        print(sum(arrr),end=\" \")\n",
    "    print()"
   ]
  },
  {
   "cell_type": "markdown",
   "metadata": {},
   "source": [
    "Largest Row or Column"
   ]
  },
  {
   "cell_type": "code",
   "execution_count": null,
   "metadata": {},
   "outputs": [],
   "source": [
    "\n",
    "from sys import stdin\n",
    "MIN_VALUE=-2147483648\n",
    "def findLargest(arr, nRows, mCols):\n",
    "    isRow =True\n",
    "    largestSum=MIN_VALUE\n",
    "    num=0\n",
    "    for i in range(nRows):\n",
    "        rowSum=0\n",
    "        for j in range(mCols):\n",
    "            rowSum+=arr[i][j]\n",
    "        if rowSum>largestSum:\n",
    "            largestSum=rowSum\n",
    "            num=i\n",
    "    for j in range(mCols):\n",
    "        colSum=0\n",
    "        for i in range(nRows):\n",
    "            colSum+=arr[i][j]\n",
    "        if colSum>largestSum:\n",
    "            largestSum=colSum\n",
    "            num=j\n",
    "            isRow=False\n",
    "    if isRow:\n",
    "        print(\"row \"+str(num)+\" \"+str(largestSum))\n",
    "    else:\n",
    "        print(\"column \"+str(num)+\" \"+str(largestSum))\n",
    "\n",
    "\n"
   ]
  },
  {
   "cell_type": "markdown",
   "metadata": {},
   "source": [
    "Wave Print"
   ]
  },
  {
   "cell_type": "code",
   "execution_count": null,
   "metadata": {},
   "outputs": [],
   "source": [
    "from sys import stdin\n",
    "\n",
    "def wavePrint(mat, nRows, mCols):\n",
    "    i = 0\n",
    "    while i<mCols:\n",
    "        j=0\n",
    "        while j!=nRows:\n",
    "            print(mat[j][i],end=\" \")\n",
    "            j+=1\n",
    "        i+=1\n",
    "        j-=1\n",
    "        if i!=mCols:\n",
    "            while j!=-1:\n",
    "                print(mat[j][i],end=\" \")\n",
    "                j-=1\n",
    "            i+=1\n"
   ]
  },
  {
   "cell_type": "code",
   "execution_count": null,
   "metadata": {},
   "outputs": [],
   "source": [
    "Spiral Print"
   ]
  },
  {
   "cell_type": "code",
   "execution_count": null,
   "metadata": {},
   "outputs": [],
   "source": [
    "from sys import stdin\n",
    "\n",
    "def spiralPrint(mat, nRows, mCols):\n",
    "    #Your code goes here\n",
    "    loop=nRows\n",
    "    if loop%2!=0:\n",
    "        loop+=1\n",
    "    for i in range(loop//2):\n",
    "        for j in range(i,mCols-i):\n",
    "            print(mat[i][j],end=\" \")\n",
    "        for k in range(1+i,nRows-i):\n",
    "            print(mat[k][j],end=\" \")\n",
    "        for l in range(mCols-2-i,-1+i,-1):\n",
    "            print(mat[k][l],end=\" \")\n",
    "        for p in range(nRows-2-i,0+i,-1):\n",
    "            print(mat[p][l],end=\" \")\n",
    "    \n",
    "    \n"
   ]
  },
  {
   "cell_type": "code",
   "execution_count": null,
   "metadata": {},
   "outputs": [],
   "source": []
  }
 ],
 "metadata": {
  "kernelspec": {
   "display_name": "Python 3",
   "language": "python",
   "name": "python3"
  },
  "language_info": {
   "codemirror_mode": {
    "name": "ipython",
    "version": 3
   },
   "file_extension": ".py",
   "mimetype": "text/x-python",
   "name": "python",
   "nbconvert_exporter": "python",
   "pygments_lexer": "ipython3",
   "version": "3.8.5"
  }
 },
 "nbformat": 4,
 "nbformat_minor": 4
}
