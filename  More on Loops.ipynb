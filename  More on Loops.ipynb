{
 "cells": [
  {
   "cell_type": "markdown",
   "metadata": {},
   "source": [
    "Binary Pattern\n",
    "Send Feedback\n",
    "Print the following pattern for the given number of rows.\n",
    "Pattern for N = 4\n",
    "1111\n",
    "000\n",
    "11\n",
    "0"
   ]
  },
  {
   "cell_type": "code",
   "execution_count": null,
   "metadata": {},
   "outputs": [],
   "source": [
    "n=int(input())\n",
    "for i in range(0,n):\n",
    "    for j in range(n-i,0,-1):\n",
    "        if(i%2==0):\n",
    "            print(1,end=\"\")\n",
    "        else:\n",
    "            print(0,end=\"\")\n",
    "    print()"
   ]
  },
  {
   "cell_type": "markdown",
   "metadata": {},
   "source": [
    "Print Number Pyramid\n",
    "Send Feedback\n",
    "Print the following pattern for a given n.\n",
    "For eg. N = 6\n",
    "123456\n",
    "  23456\n",
    "    3456\n",
    "      456\n",
    "        56\n",
    "          6\n",
    "        56\n",
    "      456\n",
    "    3456\n",
    "  23456\n",
    "123456"
   ]
  },
  {
   "cell_type": "code",
   "execution_count": null,
   "metadata": {},
   "outputs": [],
   "source": [
    "n = int(input())\n",
    "for i in range(1,n+1):\n",
    "    count = 1\n",
    "    for j in range(1,i):\n",
    "        print(\" \",end=\"\")\n",
    "        count = count + 1\n",
    "    num = i \n",
    "    for j in range(count,n+1):\n",
    "        print(num,end=\"\") \n",
    "        num = num + 1\n",
    "    print()\n",
    "for i in range(n-1,0,-1):\n",
    "    count = 1\n",
    "    for j in range(1,i):\n",
    "        print(\" \",end=\"\") \n",
    "        count = count + 1\n",
    "    num = i \n",
    "    for j in range(count,n+1): \n",
    "        print(num,end=\"\")\n",
    "        num = num + 1 \n",
    "    print()"
   ]
  },
  {
   "cell_type": "markdown",
   "metadata": {},
   "source": [
    "Diamond of Stars\n",
    "Send Feedback\n",
    "Print the following pattern for the given number of rows.\n",
    "Note: N is always odd.\n",
    "\n",
    "\n",
    "Pattern for N = 5\n",
    "  *\n",
    " ***\n",
    "*****\n",
    " ***\n",
    "  *"
   ]
  },
  {
   "cell_type": "code",
   "execution_count": null,
   "metadata": {},
   "outputs": [],
   "source": [
    "n=int(input())\n",
    "n1=(n//2)+1\n",
    "for i in range(1,n1+1):\n",
    "    for j in range(1,n1-i+1):\n",
    "        print(\" \",end=\"\")\n",
    "    for j in range(1,2*i):\n",
    "        print(\"*\",end=\"\")\n",
    "    print()\n",
    "n2=n-n1\n",
    "for i in range(n2,0,-1):\n",
    "    for j in range(1,n1-i+1):\n",
    "        print(\" \",end=\"\")\n",
    "    for j in range(1,2*i):\n",
    "        print(\"*\",end=\"\")\n",
    "    print()"
   ]
  },
  {
   "cell_type": "markdown",
   "metadata": {},
   "source": [
    "Rectangular numbers\n",
    "Send Feedback\n",
    "Print the following pattern for the given number of rows.\n",
    "Pattern for N = 4\n",
    "4444444\n",
    "4333334\n",
    "4322234\n",
    "4321234\n",
    "4322234\n",
    "4333334  \n",
    "4444444"
   ]
  },
  {
   "cell_type": "code",
   "execution_count": null,
   "metadata": {},
   "outputs": [],
   "source": [
    "\n",
    "n=int(input())\n",
    "pattern_1=n\n",
    "\n",
    "for i in range (1,n+1):\n",
    "    pattern_3 = n\n",
    "    for k in range(1,i):\n",
    "        print(pattern_3,end=\"\")\n",
    "        pattern_3=pattern_3-1\n",
    "    for j in range (1,2*n+2-2*i):\n",
    "        print(pattern_1,end=\"\")\n",
    "    pattern_1=pattern_1- 1\n",
    "\n",
    "    for l in range (1,i):\n",
    "        pattern_3=pattern_3+1\n",
    "        print(pattern_3,end=\"\")\n",
    "    print(\"\")\n",
    "\n",
    "\n",
    "pattern_1=2\n",
    "\n",
    "for i in range (n,1,-1):\n",
    "    pattern_3 = n\n",
    "    for k in range(1,i):\n",
    "        print(pattern_3,end=\"\")\n",
    "        pattern_3-=1\n",
    "    for j in range (1,2*n+2-2*i):\n",
    "        print(pattern_1,end=\"\")\n",
    "    pattern_1= pattern_1+1\n",
    "\n",
    "    for l in range (1,i):\n",
    "        pattern_3=pattern_3+1\n",
    "        print(pattern_3,end=\"\")\n",
    "    print(\"\")"
   ]
  },
  {
   "cell_type": "markdown",
   "metadata": {},
   "source": [
    "Print the pattern\n",
    "Send Feedback\n",
    "Print the following pattern for the given number of rows.\n",
    "Pattern for N = 5\n",
    " 1    2   3    4   5\n",
    " 11   12  13   14  15\n",
    " 21   22  23   24  25\n",
    " 16   17  18   19  20\n",
    " 6    7    8   9   10"
   ]
  },
  {
   "cell_type": "code",
   "execution_count": null,
   "metadata": {},
   "outputs": [],
   "source": [
    "n=int(input())\n",
    "startvalue=1\n",
    "for i in range(1,n+1):\n",
    "    for j in range(startvalue,startvalue+n):\n",
    "        print(j,end=\" \")\n",
    "    print()\n",
    "    if i==(n+1)//2:\n",
    "        if n%2!=0:\n",
    "            startvalue=n*(n-2)+1\n",
    "        else:\n",
    "            startvalue=n*(n-1)+1\n",
    "    elif i>(n+1)//2:\n",
    "        startvalue=startvalue-2*n\n",
    "    else:\n",
    "        startvalue=startvalue+2*n"
   ]
  },
  {
   "cell_type": "code",
   "execution_count": null,
   "metadata": {},
   "outputs": [],
   "source": []
  }
 ],
 "metadata": {
  "kernelspec": {
   "display_name": "Python 3",
   "language": "python",
   "name": "python3"
  },
  "language_info": {
   "codemirror_mode": {
    "name": "ipython",
    "version": 3
   },
   "file_extension": ".py",
   "mimetype": "text/x-python",
   "name": "python",
   "nbconvert_exporter": "python",
   "pygments_lexer": "ipython3",
   "version": "3.8.5"
  }
 },
 "nbformat": 4,
 "nbformat_minor": 4
}
