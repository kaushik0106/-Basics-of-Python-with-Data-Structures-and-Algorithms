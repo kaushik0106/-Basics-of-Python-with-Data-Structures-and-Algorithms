{
 "cells": [
  {
   "cell_type": "markdown",
   "metadata": {},
   "source": [
    "Kruskal's Algorithm"
   ]
  },
  {
   "cell_type": "code",
   "execution_count": null,
   "metadata": {},
   "outputs": [],
   "source": [
    "import sys\n",
    "\n",
    "\n",
    "def Edge(v1, v2, w, adjmat):\n",
    "    adjmat[v1][v2] = w\n",
    "    adjmat[v2][v1] = w\n",
    "\n",
    "\n",
    "def getminvertex(visited, weight):\n",
    "    min_vertex = -1\n",
    "    for i in range(n):\n",
    "        if(visited[i] is False and (min_vertex == -1 or weight[min_vertex] > weight[i])):\n",
    "            min_vertex = i\n",
    "    return min_vertex\n",
    "\n",
    "\n",
    "def kruskal():\n",
    "    visited = [False for i in range(n)]\n",
    "    parent = [-1 for i in range(n)]\n",
    "    weight = [sys.maxsize for i in range(n)]\n",
    "    #weight[0]=0\n",
    "    for i in range(n-1):\n",
    "        min_vertex = getminvertex(visited, weight)\n",
    "        visited[min_vertex] = True\n",
    "        for j in range(n):\n",
    "            if adjmat[min_vertex][j] > 0 and visited[j] is False:\n",
    "                if weight[j] > adjmat[min_vertex][j]:\n",
    "                    weight[j] = adjmat[min_vertex][j]\n",
    "                    parent[j] = min_vertex\n",
    "    for i in range(1, n):\n",
    "        if i < parent[i]:\n",
    "            print(str(i)+\" \"+str(parent[i])+\" \"+str(weight[i]))\n",
    "        else:\n",
    "            print(str(parent[i])+\" \"+str(i)+\" \"+str(weight[i]))\n",
    "\n",
    "\n",
    "li = [int(ele) for ele in input().split()]\n",
    "n = li[0]\n",
    "E = li[1]\n",
    "adjmat = [[0 for j in range(n)] for i in range(n)]\n",
    "for i in range(E):\n",
    "    curr_input = [int(ele) for ele in input().split()]\n",
    "    src = curr_input[0]\n",
    "    dest = curr_input[1]\n",
    "    wt = curr_input[2]\n",
    "    Edge(src, dest, wt, adjmat)\n",
    "kruskal()"
   ]
  },
  {
   "cell_type": "code",
   "execution_count": null,
   "metadata": {},
   "outputs": [],
   "source": []
  }
 ],
 "metadata": {
  "kernelspec": {
   "display_name": "Python 3",
   "language": "python",
   "name": "python3"
  },
  "language_info": {
   "codemirror_mode": {
    "name": "ipython",
    "version": 3
   },
   "file_extension": ".py",
   "mimetype": "text/x-python",
   "name": "python",
   "nbconvert_exporter": "python",
   "pygments_lexer": "ipython3",
   "version": "3.8.5"
  }
 },
 "nbformat": 4,
 "nbformat_minor": 4
}
