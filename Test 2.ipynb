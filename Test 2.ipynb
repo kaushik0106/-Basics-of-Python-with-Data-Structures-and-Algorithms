{
 "cells": [
  {
   "cell_type": "markdown",
   "metadata": {},
   "source": [
    "Print 2D Array"
   ]
  },
  {
   "cell_type": "code",
   "execution_count": null,
   "metadata": {},
   "outputs": [],
   "source": [
    "n,m = map(int,input().split())\n",
    "for i in range(n):\n",
    "    a = list(map(int,input().split()))\n",
    "    for j in range(n-i):\n",
    "        print(*a)"
   ]
  },
  {
   "cell_type": "markdown",
   "metadata": {},
   "source": [
    "Minimum Length Word"
   ]
  },
  {
   "cell_type": "code",
   "execution_count": null,
   "metadata": {},
   "outputs": [],
   "source": [
    "s=input().split()\n",
    "l=[]\n",
    "for i in s:\n",
    "    l.append(len(i))\n",
    "print(s[l.index(min(l))])"
   ]
  },
  {
   "cell_type": "code",
   "execution_count": null,
   "metadata": {},
   "outputs": [],
   "source": [
    "Leaders in array"
   ]
  },
  {
   "cell_type": "code",
   "execution_count": null,
   "metadata": {},
   "outputs": [],
   "source": [
    "n=int(input())\n",
    "l=list(map(int,input().split()))\n",
    "ma=l[-1]\n",
    "l=l[::-1]\n",
    "k=[l[0]]\n",
    "for i in range(1,n):\n",
    "    if l[i]>=ma:\n",
    "        ma=l[i]\n",
    "        k.append(l[i])\n",
    "k=k[::-1]\n",
    "print(*k)"
   ]
  }
 ],
 "metadata": {
  "kernelspec": {
   "display_name": "Python 3",
   "language": "python",
   "name": "python3"
  },
  "language_info": {
   "codemirror_mode": {
    "name": "ipython",
    "version": 3
   },
   "file_extension": ".py",
   "mimetype": "text/x-python",
   "name": "python",
   "nbconvert_exporter": "python",
   "pygments_lexer": "ipython3",
   "version": "3.8.5"
  }
 },
 "nbformat": 4,
 "nbformat_minor": 4
}
