{
 "cells": [
  {
   "cell_type": "markdown",
   "metadata": {},
   "source": [
    "Min Steps To 1"
   ]
  },
  {
   "cell_type": "code",
   "execution_count": null,
   "metadata": {},
   "outputs": [],
   "source": [
    "from sys import stdin\n",
    "from sys import maxsize as MAX_VALUE\n",
    "from sys import setrecursionlimit\n",
    "setrecursionlimit(10**6)\n",
    "\n",
    "def countMinStepsToOne(n, dp):\n",
    "    if n == 1:\n",
    "        return 0\n",
    "    if dp[n-1] == -1:\n",
    "        ans1 = countMinStepsToOne(n-1, dp)\n",
    "        dp[n-1] == ans1\n",
    "    else:\n",
    "        ans1 = dp[n-1]\n",
    "\n",
    "    ans2 = MAX_VALUE\n",
    "    if n % 2 == 0:\n",
    "        if dp[n//2] == -1:\n",
    "            ans2 = countMinStepsToOne(n//2, dp)\n",
    "            dp[n//2] = ans2\n",
    "        else:\n",
    "            ans2 = dp[n//2]\n",
    "\n",
    "    ans3 = MAX_VALUE\n",
    "    if n % 3 == 0:\n",
    "        if dp[n//3] == -1:\n",
    "            ans3 = countMinStepsToOne(n//3, dp)\n",
    "            dp[n//3] = ans3\n",
    "        else:\n",
    "            ans3 = dp[n//3]\n",
    "    \n",
    "    myAns = 1 + min(ans1, ans2, ans3)\n",
    "    return myAns\n",
    "\n",
    "\n",
    "\n",
    "#main\n",
    "n = int(stdin.readline().rstrip())\n",
    "dp = [-1 for i in range(n+1)]\n",
    "print(countMinStepsToOne(n,dp))"
   ]
  },
  {
   "cell_type": "markdown",
   "metadata": {},
   "source": [
    "Minimum Number Of Squares"
   ]
  },
  {
   "cell_type": "code",
   "execution_count": null,
   "metadata": {},
   "outputs": [],
   "source": [
    "from sys import stdin\n",
    "from sys import maxsize as MAX_VALUE\n",
    "from sys import setrecursionlimit\n",
    "setrecursionlimit(10**6)\n",
    "import math\n",
    "\n",
    "def minStepsTo1(n, dp):\n",
    "    if n == 0:\n",
    "        return 0\n",
    "\n",
    "    ans = MAX_VALUE\n",
    "    root = int(math.sqrt(n))\n",
    "    \n",
    "    for i in range(1, root+1):\n",
    "\n",
    "        newCheck = n-(i**2)\n",
    "\n",
    "        if dp[newCheck] == -1:\n",
    "            small = minStepsTo1(newCheck, dp)\n",
    "            dp[newCheck] = small\n",
    "            current_Ans = 1 + small\n",
    "\n",
    "        else:\n",
    "            current_Ans = 1 + dp[newCheck]\n",
    "        ans = min(ans, current_Ans)\n",
    "    return ans\n",
    "\n",
    "\n",
    "\n",
    "n = int(input())\n",
    "dp = [-1 for i in range(n+1)]\n",
    "ans = minStepsTo1(n, dp)\n",
    "print(ans)"
   ]
  },
  {
   "cell_type": "markdown",
   "metadata": {},
   "source": [
    "Longest Increasing Subsequence"
   ]
  },
  {
   "cell_type": "code",
   "execution_count": null,
   "metadata": {},
   "outputs": [],
   "source": [
    "def lis(arr, i, n, dp):\n",
    "    if i == n:\n",
    "        return 0, 0\n",
    "    include_max = 1\n",
    "\n",
    "    for j in range(i+1, n):\n",
    "        if arr[j] > arr[i]:\n",
    "\n",
    "            if dp[j] == -1:\n",
    "                ans = lis(arr, j, n, dp)\n",
    "                dp[j] = ans\n",
    "                further_include_max = ans[0]\n",
    "            else:\n",
    "                further_include_max = dp[j][0]\n",
    "\n",
    "            include_max = max(include_max, 1 + further_include_max)\n",
    "    if dp[i+1] == -1:\n",
    "        ans = lis(arr, i+1, n, dp)\n",
    "        dp[i+1] = ans\n",
    "        exclude_max = ans[1]\n",
    "    else:\n",
    "        exclude_max = dp[i+1][1]\n",
    "\n",
    "    overall_max = max(include_max, exclude_max)\n",
    "    return include_max, overall_max\n",
    "\n",
    "n = int(input())\n",
    "dp = [-1 for i in range(n+1)]\n",
    "arr = [int(ele) for ele in input().split() ]\n",
    "ans = lis(arr, 0, n, dp)[1]\n",
    "print(ans)"
   ]
  },
  {
   "cell_type": "code",
   "execution_count": null,
   "metadata": {},
   "outputs": [],
   "source": []
  }
 ],
 "metadata": {
  "kernelspec": {
   "display_name": "Python 3",
   "language": "python",
   "name": "python3"
  },
  "language_info": {
   "codemirror_mode": {
    "name": "ipython",
    "version": 3
   },
   "file_extension": ".py",
   "mimetype": "text/x-python",
   "name": "python",
   "nbconvert_exporter": "python",
   "pygments_lexer": "ipython3",
   "version": "3.8.5"
  }
 },
 "nbformat": 4,
 "nbformat_minor": 4
}
