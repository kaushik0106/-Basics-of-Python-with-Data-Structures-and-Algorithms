{
 "cells": [
  {
   "cell_type": "markdown",
   "metadata": {},
   "source": [
    "Code : Inverted Number Pattern\n",
    "Send Feedback\n",
    "Print the following pattern for the given N number of rows.\n",
    "Pattern for N = 4\n",
    "4444\n",
    "333\n",
    "22\n",
    "1"
   ]
  },
  {
   "cell_type": "code",
   "execution_count": null,
   "metadata": {},
   "outputs": [],
   "source": [
    "n=int(input())\n",
    "i=1\n",
    "while i<=n:\n",
    "    j=1\n",
    "    while j<=n-i+1:\n",
    "        print(n-i+1,end=\"\")\n",
    "        j=j+1\n",
    "    print()\n",
    "    i=i+1\n",
    "\n"
   ]
  },
  {
   "cell_type": "markdown",
   "metadata": {},
   "source": [
    "Code : Mirror Number Pattern\n",
    "Send Feedback\n",
    "Print the following pattern for the given N number of rows.\n",
    "Pattern for N = 4\n",
    "\n",
    ". . .1 . . 1 2 . 1 2 3 1 2 3 4 \n",
    "\n",
    "The dots represent spaces."
   ]
  },
  {
   "cell_type": "code",
   "execution_count": null,
   "metadata": {},
   "outputs": [],
   "source": [
    "n=int(input())\n",
    "i=1\n",
    "while i<=n:\n",
    "    spaces=1\n",
    "    while spaces <= n - i:\n",
    "        print('',end=\" \")\n",
    "        spaces=spaces+1\n",
    "    j=1\n",
    "    while j<=i:\n",
    "        print(j,end=\"\")\n",
    "        j=j+1\n",
    "        \n",
    "    print()\n",
    "    i=i+1\n",
    "\n"
   ]
  },
  {
   "cell_type": "markdown",
   "metadata": {},
   "source": [
    "Code : Star Pattern\n",
    "Send Feedback\n",
    "Print the following pattern\n",
    "Pattern for N = 4\n",
    "\n",
    "    *\n",
    "   *** \n",
    "  *****\n",
    " *******"
   ]
  },
  {
   "cell_type": "code",
   "execution_count": null,
   "metadata": {},
   "outputs": [],
   "source": [
    "n=int(input())\n",
    "i=1\n",
    "while i<=n:\n",
    "    spaces = 1\n",
    "    while spaces <= n - i:\n",
    "        print('',end=\" \")\n",
    "        spaces = spaces+1\n",
    "    stars = 1\n",
    "    while stars <= (2*i)-1:\n",
    "        print('*', end=\"\")\n",
    "        stars = stars + 1\n",
    "    print()\n",
    "    i=i+1\n"
   ]
  },
  {
   "cell_type": "markdown",
   "metadata": {},
   "source": [
    "Code : Triangle of Numbers\n",
    "Send Feedback\n",
    "Print the following pattern for the given number of rows.\n",
    "Pattern for N = 4\n",
    "          1\n",
    "         232\n",
    "        34543\n",
    "       4567654\n",
    "\n",
    "\n",
    "\n",
    "The dots represent spaces."
   ]
  },
  {
   "cell_type": "code",
   "execution_count": null,
   "metadata": {},
   "outputs": [],
   "source": [
    "n=int(input())\n",
    "i=1\n",
    "while i<=n:\n",
    "    spaces=1\n",
    "    while spaces<=n-i:\n",
    "        print(\" \",end=\"\")\n",
    "        spaces=spaces+1\n",
    "    j=1\n",
    "    p=i\n",
    "    while j<=i:\n",
    "        print(p,end=\"\")\n",
    "        p=p+1\n",
    "        j=j+1\n",
    "    j=1\n",
    "    p=2*i-2\n",
    "    while j<=i-1:\n",
    "        print(p,end=\"\")\n",
    "        p=p-1\n",
    "        j=j+1\n",
    "    print()\n",
    "    i=i+1"
   ]
  },
  {
   "cell_type": "markdown",
   "metadata": {},
   "source": [
    "Code : Diamond of stars\n",
    "Send Feedback\n",
    "Print the following pattern for the given number of rows.\n",
    "Note: N is always odd.\n",
    "\n",
    "\n",
    "Pattern for N = 5\n",
    "  *\n",
    " ***\n",
    "*****\n",
    " ***\n",
    "  *"
   ]
  },
  {
   "cell_type": "code",
   "execution_count": null,
   "metadata": {},
   "outputs": [],
   "source": [
    "n=int(input())\n",
    "first=n//2+1\n",
    "sec=n//2\n",
    "#first loop\n",
    "for i in range(1,first+1):\n",
    "    print(\" \"*(first-i),end=\"\")\n",
    "    print((2*i-1)*\"*\",end=\"\")\n",
    "    print()\n",
    "#Second Loop\n",
    "for p in range(1,sec+1):\n",
    "    print(\" \"*p,end=\"\")\n",
    "    print((2*(sec-p+1)-1)*\"*\",end=\"\")\n",
    "    print()\n"
   ]
  },
  {
   "cell_type": "code",
   "execution_count": null,
   "metadata": {},
   "outputs": [],
   "source": [
    "Number Pattern\n",
    "Send Feedback\n",
    "Print the following pattern for n number of rows.\n",
    "For eg. N = 5\n",
    "\n",
    "1           1\n",
    "12         21\n",
    "123       321\n",
    "1234    4321\n",
    "12345   54321"
   ]
  },
  {
   "cell_type": "code",
   "execution_count": null,
   "metadata": {},
   "outputs": [],
   "source": [
    "n = int(input())\n",
    "for i in range(1,n+1):\n",
    "    for j in range(1,i+1):\n",
    "        print(j,end='')\n",
    "    for j in range(0,2*n-2*i):\n",
    "        print(\" \",end='')\n",
    "    for j in range(i,0,-1):\n",
    "        print(j,end='')\n",
    "    print('')"
   ]
  },
  {
   "cell_type": "markdown",
   "metadata": {},
   "source": [
    "Zeros and Stars Pattern\n",
    "Send Feedback\n",
    "Print the following pattern\n",
    "Pattern for N = 4\n",
    "*000*000*\n",
    "0*00*00*0\n",
    "00*0*0*00\n",
    "000***000"
   ]
  },
  {
   "cell_type": "code",
   "execution_count": null,
   "metadata": {},
   "outputs": [],
   "source": [
    "n=int(input())\n",
    "start=1\n",
    "end=2*n+1\n",
    "mid=n+1\n",
    "row=1\n",
    "while(row<=n):\n",
    "    column=1\n",
    "    while column<=(2*n+1):\n",
    "        if column==start or column==end or column==mid:\n",
    "            print(\"*\",end='')\n",
    "        else:\n",
    "            print(\"0\",end=\"\")\n",
    "        column=column+1\n",
    "    start=start+1\n",
    "    end=end-1\n",
    "    row=row+1\n",
    "    print()"
   ]
  },
  {
   "cell_type": "markdown",
   "metadata": {},
   "source": [
    "Pyramid Number Pattern\n",
    "Send Feedback\n",
    "Print the following pattern for the given number of rows.\n",
    "Pattern for N = 4\n",
    "   1\n",
    "  212\n",
    " 32123\n",
    "4321234"
   ]
  },
  {
   "cell_type": "code",
   "execution_count": null,
   "metadata": {},
   "outputs": [],
   "source": [
    "n = int(input())\n",
    "num = 1\n",
    "gap = n - 1\n",
    "for j in range(1, n + 1):\n",
    "    num = j\n",
    "    for i in range(1, gap + 1):\n",
    "        print(\" \", end=\"\")\n",
    "    gap = gap - 1\n",
    "\n",
    "    for i in range(1, j + 1):\n",
    "        print(num, end=\"\")\n",
    "        num-=1\n",
    "    num=2\n",
    "    for i in range(1, j):\n",
    "        print(num, end=\"\")\n",
    "        num+=1\n",
    "\n",
    "    print()"
   ]
  },
  {
   "cell_type": "markdown",
   "metadata": {},
   "source": [
    "Arrow pattern\n",
    "Send Feedback\n",
    "Print the following pattern for the given number of rows.\n",
    "Assume N is always odd.\n",
    "Note : There is space after every star.\n",
    "Pattern for N = 7\n",
    "*\n",
    " * *\n",
    "   * * *\n",
    "     * * * *\n",
    "   * * *\n",
    " * *\n",
    "*"
   ]
  },
  {
   "cell_type": "code",
   "execution_count": null,
   "metadata": {},
   "outputs": [],
   "source": [
    "n = int(input())\n",
    "i = 1\n",
    "n1 = (n - 1) / 2\n",
    "n = (n + 1) / 2\n",
    "while i <= n:\n",
    "    spaces = 2\n",
    "    while spaces <= i:\n",
    "        print(\" \", end=\"\")\n",
    "        spaces += 1\n",
    "    star = 1\n",
    "    while star <= i:\n",
    "        print(\"* \", end=\"\")\n",
    "        star += 1\n",
    "    print(\"\")\n",
    "    i = i + 1\n",
    "\n",
    "i = 1\n",
    "g = 0\n",
    "while i <= n1:\n",
    "    num_1 = n1 - 1\n",
    "    while num_1 >= i:\n",
    "        print(\" \", end=\"\")\n",
    "        num_1 -= 1\n",
    "\n",
    "    num_1 = n1 - 1\n",
    "    while num_1 >= g:\n",
    "        print(\"* \", end=\"\")\n",
    "        num_1 -= 1\n",
    "    print()\n",
    "    i = i + 1\n",
    "    g = g + 1"
   ]
  }
 ],
 "metadata": {
  "kernelspec": {
   "display_name": "Python 3",
   "language": "python",
   "name": "python3"
  },
  "language_info": {
   "codemirror_mode": {
    "name": "ipython",
    "version": 3
   },
   "file_extension": ".py",
   "mimetype": "text/x-python",
   "name": "python",
   "nbconvert_exporter": "python",
   "pygments_lexer": "ipython3",
   "version": "3.8.5"
  }
 },
 "nbformat": 4,
 "nbformat_minor": 4
}
