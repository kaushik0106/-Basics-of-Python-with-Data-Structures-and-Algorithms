{
 "cells": [
  {
   "cell_type": "markdown",
   "metadata": {},
   "source": [
    "Q.1\n",
    "  12\n",
    "  1234\n",
    "  12345"
   ]
  },
  {
   "cell_type": "code",
   "execution_count": 3,
   "metadata": {},
   "outputs": [
    {
     "name": "stdout",
     "output_type": "stream",
     "text": [
      "5\n",
      "1\n",
      "12\n",
      "123\n",
      "1234\n",
      "12345\n"
     ]
    }
   ],
   "source": [
    "n=int(input())\n",
    "i=1\n",
    "while i<=n:\n",
    "    j=1\n",
    "    while j<=i:\n",
    "        print(j,end=\"\")\n",
    "        j=j+1\n",
    "    print()\n",
    "    i=i+1"
   ]
  },
  {
   "cell_type": "markdown",
   "metadata": {},
   "source": [
    "Q.1\n",
    "  22\n",
    "  333\n",
    "  4444\n",
    "  55555"
   ]
  },
  {
   "cell_type": "code",
   "execution_count": 7,
   "metadata": {},
   "outputs": [
    {
     "name": "stdout",
     "output_type": "stream",
     "text": [
      "5\n",
      "1\n",
      "22\n",
      "333\n",
      "4444\n",
      "55555\n"
     ]
    }
   ],
   "source": [
    "n=int(input())\n",
    "i=1\n",
    "while i<=n:\n",
    "    j=1\n",
    "    while j<=i:\n",
    "        print(i,end=\"\")\n",
    "        j=j+1\n",
    "    print()\n",
    "    i=i+1"
   ]
  },
  {
   "cell_type": "markdown",
   "metadata": {},
   "source": [
    "Q. 5\n",
    "   55\n",
    "   555\n",
    "   5555\n",
    "   55555\n"
   ]
  },
  {
   "cell_type": "code",
   "execution_count": 8,
   "metadata": {},
   "outputs": [
    {
     "name": "stdout",
     "output_type": "stream",
     "text": [
      "5\n",
      "5\n",
      "55\n",
      "555\n",
      "5555\n",
      "55555\n"
     ]
    }
   ],
   "source": [
    "n=int(input())\n",
    "i=1\n",
    "while i<=n:\n",
    "    j=1\n",
    "    while j<=i:\n",
    "        print(n,end=\"\")\n",
    "        j=j+1\n",
    "    print()\n",
    "    i=i+1"
   ]
  },
  {
   "cell_type": "markdown",
   "metadata": {},
   "source": [
    "Q. *\n",
    "   **\n",
    "   ***\n",
    "   ****\n",
    "   *****"
   ]
  },
  {
   "cell_type": "code",
   "execution_count": 10,
   "metadata": {},
   "outputs": [
    {
     "name": "stdout",
     "output_type": "stream",
     "text": [
      "5\n",
      "*\n",
      "**\n",
      "***\n",
      "****\n",
      "*****\n"
     ]
    }
   ],
   "source": [
    "n=int(input())\n",
    "i=1\n",
    "while i<=n:\n",
    "    j=1\n",
    "    while j<=i:\n",
    "        print(\"*\",end=\"\")\n",
    "        j=j+1\n",
    "    print()\n",
    "    i=i+1"
   ]
  },
  {
   "cell_type": "markdown",
   "metadata": {},
   "source": [
    "Q.55555\n",
    "  55555\n",
    "  55555\n",
    "  55555\n",
    "  55555 "
   ]
  },
  {
   "cell_type": "code",
   "execution_count": 22,
   "metadata": {},
   "outputs": [
    {
     "name": "stdout",
     "output_type": "stream",
     "text": [
      "5\n",
      "55555\n",
      "55555\n",
      "55555\n",
      "55555\n",
      "55555\n"
     ]
    }
   ],
   "source": [
    "n=int(input())\n",
    "i=1\n",
    "while i<=n:\n",
    "    j=1\n",
    "    while j<=n:\n",
    "        print(n,end=\"\")\n",
    "        j=j+1\n",
    "    print()\n",
    "    i=i+1"
   ]
  },
  {
   "cell_type": "markdown",
   "metadata": {},
   "source": [
    "Q. 11111\n",
    "   11111\n",
    "   11111\n",
    "   11111\n",
    "   11111"
   ]
  },
  {
   "cell_type": "code",
   "execution_count": 26,
   "metadata": {},
   "outputs": [
    {
     "name": "stdout",
     "output_type": "stream",
     "text": [
      "5\n",
      "11111\n",
      "11111\n",
      "11111\n",
      "11111\n",
      "11111\n"
     ]
    }
   ],
   "source": [
    "n=int(input())\n",
    "i=1\n",
    "p=1\n",
    "while i<=n:\n",
    "    j=1\n",
    "    while j<=n:\n",
    "        print(p,end=\"\")\n",
    "        j=j+1\n",
    "    print()\n",
    "    i=i+1"
   ]
  },
  {
   "cell_type": "markdown",
   "metadata": {},
   "source": [
    "Q. 1\n",
    "   11\n",
    "   202\n",
    "   3003"
   ]
  },
  {
   "cell_type": "code",
   "execution_count": 27,
   "metadata": {},
   "outputs": [
    {
     "name": "stdout",
     "output_type": "stream",
     "text": [
      "4\n",
      "1\n",
      "11\n",
      "202\n",
      "3003\n"
     ]
    }
   ],
   "source": [
    "n=int(input())\n",
    "i=1\n",
    "print(1)\n",
    "while i<=n-1:\n",
    "    print(i,end=\"\")\n",
    "    j=2\n",
    "    while j<=i:\n",
    "        print(0,end=\"\")\n",
    "        j=j+1\n",
    "    print(i)\n",
    "    i=i+1\n",
    "    "
   ]
  },
  {
   "cell_type": "markdown",
   "metadata": {},
   "source": [
    "Q. 1\n",
    "   11\n",
    "   121\n",
    "   1221"
   ]
  },
  {
   "cell_type": "code",
   "execution_count": 33,
   "metadata": {},
   "outputs": [
    {
     "name": "stdout",
     "output_type": "stream",
     "text": [
      "4\n",
      "1\n",
      "11\n",
      "121\n",
      "1221\n"
     ]
    }
   ],
   "source": [
    "n=int(input())\n",
    "i=1\n",
    "print(1)\n",
    "while i<=n-1:\n",
    "    print(1,end=\"\")\n",
    "    j=2\n",
    "    while j<=i:\n",
    "        print(2,end=\"\")\n",
    "        j=j+1\n",
    "    print(1)\n",
    "    i=i+1"
   ]
  },
  {
   "cell_type": "markdown",
   "metadata": {},
   "source": [
    "Q. 1234\n",
    "   123\n",
    "   12\n",
    "   1"
   ]
  },
  {
   "cell_type": "code",
   "execution_count": 34,
   "metadata": {},
   "outputs": [
    {
     "name": "stdout",
     "output_type": "stream",
     "text": [
      "4\n",
      "1234\n",
      "123\n",
      "12\n",
      "1\n"
     ]
    }
   ],
   "source": [
    "n=int(input())\n",
    "i=0\n",
    "while i<n:\n",
    "    j=1\n",
    "    while (j<n-i+1):\n",
    "        print(j,end=\"\")\n",
    "        j=j+1\n",
    "    i=i+1\n",
    "    print()"
   ]
  },
  {
   "cell_type": "markdown",
   "metadata": {},
   "source": [
    "Q. A\n",
    "   BC\n",
    "   CDE\n",
    "   DEFG"
   ]
  },
  {
   "cell_type": "code",
   "execution_count": 35,
   "metadata": {},
   "outputs": [
    {
     "name": "stdout",
     "output_type": "stream",
     "text": [
      "4\n",
      "A\n",
      "BC\n",
      "CDE\n",
      "DEFG\n"
     ]
    }
   ],
   "source": [
    "n=int(input())\n",
    "i=1\n",
    "while i<=n:\n",
    "    j=1\n",
    "    char=ord('A')+i-1\n",
    "    while j<=i:\n",
    "        print(chr(char+j-1),end=\"\")\n",
    "        j=j+1\n",
    "    print()\n",
    "    i=i+1"
   ]
  },
  {
   "cell_type": "markdown",
   "metadata": {},
   "source": [
    "Q. 4444\n",
    "   333\n",
    "   22\n",
    "   1"
   ]
  },
  {
   "cell_type": "code",
   "execution_count": 6,
   "metadata": {},
   "outputs": [
    {
     "name": "stdout",
     "output_type": "stream",
     "text": [
      "4\n",
      "4444\n",
      "333\n",
      "22\n",
      "1\n"
     ]
    }
   ],
   "source": [
    "n=int(input())\n",
    "i=1\n",
    "while i<=n:\n",
    "    j=1\n",
    "    while j<=n-i+1:\n",
    "        print(n-i+1,end=\"\")\n",
    "        j=j+1\n",
    "    print()\n",
    "\n",
    "    i=i+1"
   ]
  },
  {
   "cell_type": "markdown",
   "metadata": {},
   "source": [
    "Q.    1\n",
    "     12\n",
    "    123\n",
    "   1234"
   ]
  },
  {
   "cell_type": "code",
   "execution_count": 12,
   "metadata": {},
   "outputs": [
    {
     "name": "stdout",
     "output_type": "stream",
     "text": [
      "4\n",
      "   1\n",
      "  12\n",
      " 123\n",
      "1234\n"
     ]
    }
   ],
   "source": [
    "n=int(input())\n",
    "i=1\n",
    "while i<=n:\n",
    "    spaces=1\n",
    "    while spaces <= n-i :\n",
    "        print('',end=\" \")\n",
    "        spaces=spaces+1\n",
    "    j=1\n",
    "    while j<=i:\n",
    "        print(j,end=\"\")\n",
    "        j=j+1\n",
    "    print()\n",
    "    i=i+1"
   ]
  },
  {
   "cell_type": "markdown",
   "metadata": {},
   "source": [
    "Q.    *\n",
    "     ***\n",
    "    *****\n",
    "   *******"
   ]
  },
  {
   "cell_type": "code",
   "execution_count": 17,
   "metadata": {},
   "outputs": [
    {
     "name": "stdout",
     "output_type": "stream",
     "text": [
      "4\n",
      "   *\n",
      "  ***\n",
      " *****\n",
      "*******\n"
     ]
    }
   ],
   "source": [
    "n=int(input())\n",
    "i=1\n",
    "while i<=n:\n",
    "    spaces=1\n",
    "    while spaces <= n-i :\n",
    "        print('',end=\" \")\n",
    "        spaces=spaces+1\n",
    "    star=1\n",
    "    while star<=(2*i)-1:\n",
    "        print(\"*\",end=\"\")\n",
    "        star=star+1\n",
    "    print()\n",
    "    i=i+1"
   ]
  },
  {
   "cell_type": "markdown",
   "metadata": {},
   "source": [
    "Q.  1\n",
    "   232\n",
    "  34543\n",
    " 4567654"
   ]
  },
  {
   "cell_type": "code",
   "execution_count": 7,
   "metadata": {},
   "outputs": [
    {
     "name": "stdout",
     "output_type": "stream",
     "text": [
      "4\n",
      "   1\n",
      "  232\n",
      " 34543\n",
      "4567654\n"
     ]
    }
   ],
   "source": [
    "n=int(input())\n",
    "i=1\n",
    "while i<=n:\n",
    "    spaces=1\n",
    "    while spaces<=n-i:\n",
    "        print(\" \",end=\"\")\n",
    "        spaces=spaces+1\n",
    "    j=1\n",
    "    p=i\n",
    "    while j<=i:\n",
    "        print(p,end=\"\")\n",
    "        p=p+1\n",
    "        j=j+1\n",
    "    j=1\n",
    "    p=2*i-2\n",
    "    while j<=i-1:\n",
    "        print(p,end=\"\")\n",
    "        p=p-1\n",
    "        j=j+1\n",
    "    print()\n",
    "    i=i+1\n",
    "        "
   ]
  },
  {
   "cell_type": "code",
   "execution_count": 12,
   "metadata": {},
   "outputs": [
    {
     "name": "stdout",
     "output_type": "stream",
     "text": [
      "4\n",
      "* * * * \n",
      "* * * * \n",
      "* * * * \n",
      "* * * * \n"
     ]
    }
   ],
   "source": [
    "n=int(input())\n",
    "for i in range (n):\n",
    "    for j in range (n):\n",
    "        print(\"*\",end=\" \")\n",
    "    print()"
   ]
  },
  {
   "cell_type": "markdown",
   "metadata": {},
   "source": [
    "INCREASING TRIANGLE"
   ]
  },
  {
   "cell_type": "code",
   "execution_count": 13,
   "metadata": {},
   "outputs": [
    {
     "name": "stdout",
     "output_type": "stream",
     "text": [
      "4\n",
      "*\n",
      "**\n",
      "***\n",
      "****\n"
     ]
    }
   ],
   "source": [
    "n=int(input())\n",
    "for i in range (n):\n",
    "    for j in range (i+1):\n",
    "        print(\"*\",end=\"\")\n",
    "    print()"
   ]
  },
  {
   "cell_type": "markdown",
   "metadata": {},
   "source": [
    "DECREASING TRIANGLE"
   ]
  },
  {
   "cell_type": "code",
   "execution_count": 14,
   "metadata": {},
   "outputs": [
    {
     "name": "stdout",
     "output_type": "stream",
     "text": [
      "4\n",
      "****\n",
      "***\n",
      "**\n",
      "*\n"
     ]
    }
   ],
   "source": [
    "n=int(input())\n",
    "for i in range (n):\n",
    "    for j in range(i,n):\n",
    "        print(\"*\",end=\"\")\n",
    "    print()"
   ]
  },
  {
   "cell_type": "code",
   "execution_count": 15,
   "metadata": {},
   "outputs": [
    {
     "name": "stdout",
     "output_type": "stream",
     "text": [
      "4\n",
      "*\n",
      "**\n",
      "***\n",
      "****\n",
      "****\n",
      "***\n",
      "**\n",
      "*\n"
     ]
    }
   ],
   "source": [
    "n=int(input())\n",
    "for i in range (n):\n",
    "    for j in range (i+1):\n",
    "        print(\"*\",end=\"\")\n",
    "    print()\n",
    "for i in range (n):\n",
    "    for j in range(i,n):\n",
    "        print(\"*\",end=\"\")\n",
    "    print()"
   ]
  },
  {
   "cell_type": "code",
   "execution_count": 18,
   "metadata": {},
   "outputs": [
    {
     "name": "stdout",
     "output_type": "stream",
     "text": [
      "4\n",
      "    *\n",
      "   **\n",
      "  ***\n",
      " ****\n"
     ]
    }
   ],
   "source": [
    "n=int(input())\n",
    "for i in range (n):\n",
    "    for j in range(i,n):\n",
    "        print(\" \",end=\"\")\n",
    "    for j in range (i+1):\n",
    "        print(\"*\",end=\"\")\n",
    "    print()"
   ]
  },
  {
   "cell_type": "code",
   "execution_count": 17,
   "metadata": {},
   "outputs": [
    {
     "name": "stdout",
     "output_type": "stream",
     "text": [
      "4\n",
      " ****\n",
      "  ***\n",
      "   **\n",
      "    *\n"
     ]
    }
   ],
   "source": [
    "n=int(input())\n",
    "for i in range (n):\n",
    "    for j in range (i+1):\n",
    "        print(\" \",end=\"\")\n",
    "    for j in range(i,n):\n",
    "        print(\"*\",end=\"\")\n",
    "    print()"
   ]
  },
  {
   "cell_type": "code",
   "execution_count": 24,
   "metadata": {},
   "outputs": [
    {
     "name": "stdout",
     "output_type": "stream",
     "text": [
      "4\n",
      "    *    \n",
      "   ***   \n",
      "  *****  \n",
      " ******* \n"
     ]
    }
   ],
   "source": [
    "n=int(input())\n",
    "for i in range (n):\n",
    "    for j in range(i,n):\n",
    "        \n",
    "        print(\" \",end=\"\")\n",
    "    for j in range (i):\n",
    "        print(\"*\",end=\"\")\n",
    "    for j in range (i+1):\n",
    "        print(\"*\",end=\"\")\n",
    "    for j in range(i,n):\n",
    "        print(\" \",end=\"\")\n",
    "    print()"
   ]
  },
  {
   "cell_type": "code",
   "execution_count": 29,
   "metadata": {},
   "outputs": [
    {
     "name": "stdout",
     "output_type": "stream",
     "text": [
      "4\n",
      " ******* \n",
      "  *****  \n",
      "   ***   \n",
      "    *    \n"
     ]
    }
   ],
   "source": [
    "n=int(input())\n",
    "for i in range (n):\n",
    "    for j in range (i+1):\n",
    "        print(\" \",end=\"\")\n",
    "    for j in range(i,n-1):\n",
    "        print(\"*\",end=\"\")\n",
    "    for j in range(i,n):\n",
    "        print(\"*\",end=\"\")\n",
    "    for j in range (i+1):\n",
    "        print(\" \",end=\"\")\n",
    "    print()"
   ]
  },
  {
   "cell_type": "code",
   "execution_count": 39,
   "metadata": {},
   "outputs": [
    {
     "name": "stdout",
     "output_type": "stream",
     "text": [
      "4\n",
      "    *    \n",
      "   ***   \n",
      "  *****  \n",
      " ******* \n",
      "  *****  \n",
      "   ***   \n",
      "    *    \n"
     ]
    }
   ],
   "source": [
    "n=int(input())\n",
    "for i in range (n-1):\n",
    "    for j in range(i,n):\n",
    "        \n",
    "        print(\" \",end=\"\")\n",
    "    for j in range (i):\n",
    "        print(\"*\",end=\"\")\n",
    "    for j in range (i+1):\n",
    "        print(\"*\",end=\"\")\n",
    "    for j in range(i,n):\n",
    "        print(\" \",end=\"\")\n",
    "    print()\n",
    "for i in range (n):\n",
    "    for j in range (i+1):\n",
    "        print(\" \",end=\"\")\n",
    "    for j in range(i,n-1):\n",
    "        print(\"*\",end=\"\")\n",
    "    for j in range(i,n):\n",
    "        print(\"*\",end=\"\")\n",
    "    for j in range (i+1):\n",
    "        print(\" \",end=\"\")\n",
    "    print()"
   ]
  },
  {
   "cell_type": "code",
   "execution_count": 2,
   "metadata": {},
   "outputs": [
    {
     "name": "stdout",
     "output_type": "stream",
     "text": [
      "4\n",
      "1\n",
      "22\n",
      "333\n",
      "4444\n"
     ]
    }
   ],
   "source": [
    "n=int(input())\n",
    "p=1\n",
    "for i in range (n):\n",
    "    for j in range (i+1):\n",
    "        print(p,end=\"\")\n",
    "        \n",
    "    print()\n",
    "    p=p+1\n",
    "    "
   ]
  },
  {
   "cell_type": "code",
   "execution_count": 6,
   "metadata": {},
   "outputs": [
    {
     "name": "stdout",
     "output_type": "stream",
     "text": [
      "5\n",
      "1        1\n",
      "12      21\n",
      "123    321\n",
      "1234  4321\n",
      "1234554321\n"
     ]
    }
   ],
   "source": [
    "n = int(input())\n",
    "for i in range(1,n+1):\n",
    "    for j in range(1,i+1):\n",
    "        print(j,end='')\n",
    "    for j in range(0,2*n-2*i):\n",
    "        print(\" \",end='')\n",
    "    for j in range(i,0,-1):\n",
    "        print(j,end='')\n",
    "    print('')"
   ]
  },
  {
   "cell_type": "code",
   "execution_count": 17,
   "metadata": {},
   "outputs": [
    {
     "name": "stdout",
     "output_type": "stream",
     "text": [
      "5\n",
      "*0000*0000*\n",
      "0*000*000*0\n",
      "00*00*00*00\n",
      "000*0*0*000\n",
      "0000***0000\n"
     ]
    }
   ],
   "source": [
    "n=int(input())\n",
    "start=1\n",
    "end=n*2+1\n",
    "mid=n+1\n",
    "i=1\n",
    "while (i<=n):\n",
    "    j=1\n",
    "    while j<=(n*2+1):\n",
    "        if j==start or j==end or j==mid :\n",
    "            print(\"*\",end=\"\")\n",
    "        else:\n",
    "            print(\"0\",end=\"\")\n",
    "        j=j+1\n",
    "    start=start+1\n",
    "    end=end-1\n",
    "    i=i+1\n",
    "    print()"
   ]
  },
  {
   "cell_type": "markdown",
   "metadata": {},
   "source": [
    "Q. 1111\n",
    "   000\n",
    "   11\n",
    "   0"
   ]
  },
  {
   "cell_type": "code",
   "execution_count": 2,
   "metadata": {},
   "outputs": [
    {
     "name": "stdout",
     "output_type": "stream",
     "text": [
      "4\n",
      "1111\n",
      "000\n",
      "11\n",
      "0\n"
     ]
    }
   ],
   "source": [
    "n=int(input())\n",
    "for i in range(0,n):\n",
    "    for j in range(n-i,0,-1):\n",
    "        if (i%2==0):\n",
    "            print(1,end=\"\")\n",
    "        else:\n",
    "            print(0,end=\"\")\n",
    "    print()\n",
    "    "
   ]
  },
  {
   "cell_type": "code",
   "execution_count": null,
   "metadata": {},
   "outputs": [],
   "source": [
    "123456\n",
    "  23456\n",
    "    3456\n",
    "      456\n",
    "        56\n",
    "          6\n",
    "        56\n",
    "      456\n",
    "    3456\n",
    "  23456\n",
    "123456"
   ]
  },
  {
   "cell_type": "code",
   "execution_count": null,
   "metadata": {},
   "outputs": [],
   "source": [
    "n=int(input())\n",
    "i=0\n",
    "while i<n:\n",
    "    for j in range (i+1):\n",
    "        print(\" \",end=\"\")\n",
    "    j=1\n",
    "    while (j<n-i+1):\n",
    "        print(j,end=\"\")\n",
    "        j=j+1\n",
    "    print()\n",
    "    for i in range (n):\n",
    "        for j in range(i,n):\n",
    "            print(\" \",end=\"\")\n",
    "        for j in range(0,2*n-2*i):\n",
    "            print(\" \",end='')\n",
    "        for j in range(i,0,-1):\n",
    "            print(j,end='')\n",
    "        print()\n",
    "        i=i+1"
   ]
  },
  {
   "cell_type": "code",
   "execution_count": 1,
   "metadata": {},
   "outputs": [
    {
     "name": "stdout",
     "output_type": "stream",
     "text": [
      "5\n",
      "1        12      123    1234  1234512345\n",
      "1234\n",
      "123\n",
      "12\n",
      "1\n"
     ]
    }
   ],
   "source": [
    "n = int(input())\n",
    "for i in range(1,n+1):\n",
    "    for j in range(1,i+1):\n",
    "        print(j,end='')\n",
    "    for j in range(0,2*n-2*i):\n",
    "        print(\" \",end='')\n",
    "i=0\n",
    "while i<n:\n",
    "    j=1\n",
    "    while (j<n-i+1):\n",
    "        print(j,end=\"\")\n",
    "        j=j+1\n",
    "    i=i+1\n",
    "    print()"
   ]
  },
  {
   "cell_type": "code",
   "execution_count": null,
   "metadata": {},
   "outputs": [],
   "source": []
  }
 ],
 "metadata": {
  "kernelspec": {
   "display_name": "Python 3",
   "language": "python",
   "name": "python3"
  },
  "language_info": {
   "codemirror_mode": {
    "name": "ipython",
    "version": 3
   },
   "file_extension": ".py",
   "mimetype": "text/x-python",
   "name": "python",
   "nbconvert_exporter": "python",
   "pygments_lexer": "ipython3",
   "version": "3.8.5"
  }
 },
 "nbformat": 4,
 "nbformat_minor": 4
}
