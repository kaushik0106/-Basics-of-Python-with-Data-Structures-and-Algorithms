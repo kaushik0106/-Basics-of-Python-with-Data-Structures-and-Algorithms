{
 "cells": [
  {
   "cell_type": "markdown",
   "metadata": {},
   "source": [
    "HEAPSHORT"
   ]
  },
  {
   "cell_type": "code",
   "execution_count": 6,
   "metadata": {},
   "outputs": [
    {
     "name": "stdout",
     "output_type": "stream",
     "text": [
      "1 2 3 4 5 6\n",
      "6 5 4 3 2 1 "
     ]
    }
   ],
   "source": [
    "def down_heapify(arr,i,n):\n",
    "    parentIndex=i\n",
    "    leftchildIndex=2*parentIndex+1\n",
    "    rightchildIndex=2*parentIndex+2\n",
    "    \n",
    "    while leftchildIndex<n:\n",
    "        minIndex=parentIndex\n",
    "        if arr[minIndex]>arr[leftchildIndex]:\n",
    "            minIndex=leftchildIndex\n",
    "        if rightchildIndex < n and arr[minIndex]>arr[rightchildIndex]:\n",
    "            minIndex=rightchildIndex\n",
    "        if minIndex==parentIndex:\n",
    "            return\n",
    "        arr[minIndex],arr[parentIndex]=arr[parentIndex],arr[minIndex]\n",
    "        parentIndex=minIndex\n",
    "        leftchildIndex=2*parentIndex+1\n",
    "        rightChildIndex=2\n",
    "def heapsort(arr):\n",
    "    n=len(arr)\n",
    "    for i in range(n//2 -1,-1,-1):\n",
    "        down_heapify(arr,i,n)\n",
    "    \n",
    "    for i in range(n-1,0,-1):\n",
    "        arr[0],arr[i]=arr[i],arr[0]\n",
    "        down_heapify(arr,0,i)\n",
    "    return\n",
    "arr=[int(ele) for ele in input().split()]\n",
    "heapsort(arr)\n",
    "for ele in arr:\n",
    "    print(ele,end=\" \")\n",
    "    "
   ]
  },
  {
   "cell_type": "markdown",
   "metadata": {},
   "source": [
    "K SMALLEST ELEMENT"
   ]
  },
  {
   "cell_type": "code",
   "execution_count": null,
   "metadata": {},
   "outputs": [],
   "source": [
    "import heapq\n",
    "def kSmallest(lst, k):\n",
    "    heap=lst[:k]\n",
    "    heapq._heapify_max(heap)\n",
    "    n=len(lst)\n",
    "    for i in range(k,n):\n",
    "        if heap[0]>lst[i]:\n",
    "            heapq._heapreplace_max(heap,lst[i])\n",
    "    return heap\n",
    "n=int(input())\n",
    "lst=list(int(i) for i in input().strip().split(' '))\n",
    "k=int(input())\n",
    "ans=kSmallest(lst, k)\n",
    "ans.sort()\n",
    "print(*ans, sep=' ')\n",
    "            "
   ]
  },
  {
   "cell_type": "markdown",
   "metadata": {},
   "source": [
    "K lagest element"
   ]
  },
  {
   "cell_type": "code",
   "execution_count": null,
   "metadata": {},
   "outputs": [],
   "source": [
    "import heapq\n",
    "def kLargest(lst, k):\n",
    "    heap=lst[:k]\n",
    "    heapq.heapify(heap)\n",
    "    n=len(lst)\n",
    "    for i in range(k,n):\n",
    "        if heap[0]<lst[i]:\n",
    "            heapq.heapreplace(heap,lst[i])\n",
    "    return heap\n",
    "    pass\n",
    "\n",
    "# Main Code\n",
    "n=int(input())\n",
    "lst=list(int(i) for i in input().strip().split(' '))\n",
    "k=int(input())\n",
    "ans=kLargest(lst, k)\n",
    "print(*ans, sep='\\n')\n"
   ]
  },
  {
   "cell_type": "markdown",
   "metadata": {},
   "source": [
    "Check Max-Heap"
   ]
  },
  {
   "cell_type": "code",
   "execution_count": null,
   "metadata": {},
   "outputs": [],
   "source": [
    "def checkMaxHeap(lst):\n",
    "\n",
    "    n = len(lst)\n",
    "    for i in range(((n-2)//2) + 1):\n",
    "        parentIndex = i\n",
    "        leftChildIndex = 2*parentIndex + 1 \n",
    "        rightChildIndex = 2*parentIndex + 2 \n",
    "\n",
    "        if lst[leftChildIndex] > lst[i]:\n",
    "            return False\n",
    "        if rightChildIndex < n and lst[rightChildIndex] > lst[i]:\n",
    "            return False\n",
    "    return True\n",
    "# Main Code\n",
    "n=int(input())\n",
    "lst=list(int(i) for i in input().strip().split(' '))\n",
    "print('true') if checkMaxHeap(lst) else print('false')"
   ]
  },
  {
   "cell_type": "markdown",
   "metadata": {},
   "source": [
    "Kth largest element"
   ]
  },
  {
   "cell_type": "code",
   "execution_count": null,
   "metadata": {},
   "outputs": [],
   "source": [
    "import heapq\n",
    " \n",
    " \n",
    "# A simple implementation of max-heap based on `heapq`\n",
    "class MaxHeap:\n",
    " \n",
    "    def __init__(self, data=None):\n",
    "        if data is None:\n",
    "            self.data = []\n",
    "        else:\n",
    "            self.data = [-i for i in data]\n",
    "            heapq.heapify(self.data)\n",
    " \n",
    "    def top(self):\n",
    "        return -self.data[0]\n",
    " \n",
    "    def push(self, item):\n",
    "        heapq.heappush(self.data, -item)\n",
    " \n",
    "    def pop(self):\n",
    "        return -heapq.heappop(self.data)\n",
    " \n",
    "    def replace(self, item):\n",
    "        return heapq.heapreplace(self.data, -item)\n",
    " \n",
    " \n",
    "# Function to find the k'th largest element in a list using max-heap\n",
    "def kthLargest(lst, k):\n",
    " \n",
    "    # base case\n",
    "    if not lst or len(lst) < k:\n",
    "        exit(-1)\n",
    " \n",
    "    # build a max-heap from all elements in the list\n",
    "    pq = MaxHeap(lst)\n",
    " \n",
    "    # pop from max-heap exactly `k-1` times\n",
    "    while k > 1:\n",
    "        pq.pop()\n",
    "        k = k - 1\n",
    " \n",
    "    # return the root of max-heap\n",
    "    return pq.top()\n",
    "\n",
    "# Main\n",
    "n=int(input())\n",
    "lst=list(int(i) for i in input().strip().split(' '))\n",
    "k=int(input())\n",
    "ans=kthLargest(lst, k)\n",
    "print(ans)"
   ]
  },
  {
   "cell_type": "markdown",
   "metadata": {},
   "source": [
    "Buy the ticket"
   ]
  },
  {
   "cell_type": "code",
   "execution_count": null,
   "metadata": {},
   "outputs": [],
   "source": [
    "from sys import stdin\n",
    "import sys\n",
    "import heapq as heap\n",
    "\n",
    "class LinkedListNode :\n",
    "    def __init__(self, data) :\n",
    "        self.data = data\n",
    "        self.next = None\n",
    "        \n",
    "class Queue :\n",
    "    def __init__(self) :\n",
    "        self.head = None \n",
    "        self.tail = None\n",
    "        self.size = 0\n",
    "        \n",
    "    def enqueue(self, data) :\n",
    "        newNode = LinkedListNode(data)\n",
    "        if self.head is None :\n",
    "            self.head = self.tail = newNode\n",
    "        else :\n",
    "            self.tail.next = newNode\n",
    "            self.tail = newNode\n",
    "        self.size += 1\n",
    "        return\n",
    "        \n",
    "    def dequeue(self) :\n",
    "        if self.head is None :\n",
    "            return None\n",
    "        data = self.head.data\n",
    "        self.head = self.head.next\n",
    "        self.size -= 1\n",
    "        return data\n",
    "    \n",
    "    def getSize(self) :\n",
    "        return self.size\n",
    "    \n",
    "    def isEmpty(self) :\n",
    "        if self.head is None :\n",
    "            return True\n",
    "        return False\n",
    "    \n",
    "    def peek(self) :\n",
    "        if self.head is None :\n",
    "            return None\n",
    "        return self.head.data\n",
    "    \n",
    "def buyTicket(arr, n, k) : \n",
    "    q = Queue()\n",
    "    maxHeap = []\n",
    "    heap.heapify(maxHeap)\n",
    "    for element in arr:\n",
    "        q.enqueue(element)\n",
    "        heap.heappush(maxHeap, -1*element)\n",
    "    count = 0\n",
    "    while len(maxHeap) != 0:\n",
    "        if q.peek() == -1*maxHeap[0]:\n",
    "            if k == 0:\n",
    "                return count + 1\n",
    "            else:\n",
    "                count += 1\n",
    "                q.dequeue()\n",
    "                heap.heappop(maxHeap)\n",
    "                k -= 1\n",
    "        else:\n",
    "            q.enqueue(q.peek())\n",
    "            q.dequeue()\n",
    "            if k == 0:\n",
    "                k = q.getSize() - 1\n",
    "            else:\n",
    "                k -= 1\n",
    "    return count\n",
    "def takeInput() :\n",
    "    n = int(stdin.readline().strip())\n",
    "    if n == 0 :\n",
    "        return n, list(), int(stdin.readline().strip())\n",
    "    arr = list(map(int, stdin.readline().strip().split(\" \")))\n",
    "    k = int(stdin.readline().strip())\n",
    "    return n, arr, k\n",
    "\n",
    "#main\n",
    "sys.setrecursionlimit(10**6)\n",
    "n, arr, k = takeInput()\n",
    "print(buyTicket(arr, n, k))"
   ]
  }
 ],
 "metadata": {
  "kernelspec": {
   "display_name": "Python 3",
   "language": "python",
   "name": "python3"
  },
  "language_info": {
   "codemirror_mode": {
    "name": "ipython",
    "version": 3
   },
   "file_extension": ".py",
   "mimetype": "text/x-python",
   "name": "python",
   "nbconvert_exporter": "python",
   "pygments_lexer": "ipython3",
   "version": "3.8.5"
  }
 },
 "nbformat": 4,
 "nbformat_minor": 4
}
