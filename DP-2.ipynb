{
 "cells": [
  {
   "cell_type": "markdown",
   "metadata": {},
   "source": [
    "Min Cost Path Problem"
   ]
  },
  {
   "cell_type": "code",
   "execution_count": null,
   "metadata": {},
   "outputs": [],
   "source": [
    "from sys import stdin\n",
    "MAX_VALUE = 2147483647\n",
    "\n",
    "\n",
    "def minCostPath(input, i, j,mRows, nCols):\n",
    "\n",
    "    if i == mRows-1 and j == nCols-1:\n",
    "        return input[i][j]\n",
    "\n",
    "    if i >= mRows or j >= nCols:\n",
    "        return MAX_VALUE\n",
    "    ans1 = minCostPath(input, i, j+1, mRows, nCols)\n",
    "    ans2 = minCostPath(input, i+1, j, mRows, nCols)\n",
    "    ans3 = minCostPath(input, i+1, j+1, mRows, nCols)\n",
    "\n",
    "    ans = input[i][j] + min(ans1, ans2, ans3)\n",
    "    return ans\n",
    "\n",
    "\n",
    "\n",
    "\n",
    "def take2DInput():\n",
    "    li = stdin.readline().rstrip().split(\" \")\n",
    "    mRows = int(li[0])\n",
    "    nCols = int(li[1])\n",
    "\n",
    "    if mRows == 0:\n",
    "        return list(), 0, 0\n",
    "\n",
    "    mat = [list(map(int, input().strip().split(\" \"))) for row in range(mRows)]\n",
    "    return mat, mRows, nCols\n",
    "\n",
    "\n",
    "#main\n",
    "mat, mRows, nCols = take2DInput()\n",
    "print(minCostPath(mat, 0, 0, mRows, nCols))"
   ]
  },
  {
   "cell_type": "markdown",
   "metadata": {},
   "source": [
    "LCS - Problem"
   ]
  },
  {
   "cell_type": "code",
   "execution_count": null,
   "metadata": {},
   "outputs": [],
   "source": [
    "from sys import stdin\n",
    "\n",
    "def lcs(s, t, i, j, dp):\n",
    "    if i == len(s) or j == len(t):\n",
    "        return 0\n",
    "\n",
    "    if s[i] == t[j]:\n",
    "        if dp[i+1][j+1] == -1:\n",
    "            smallAns = lcs(s, t, i+1, j+1, dp)\n",
    "            dp[i+1][j+1] = smallAns\n",
    "            ans = 1 + smallAns\n",
    "        else:\n",
    "            ans = 1 + dp[i+1][j+1]\n",
    "\n",
    "    else:\n",
    "        if dp[i+1][j] == -1:\n",
    "            ans1 = lcs(s, t, i+1, j, dp)\n",
    "            dp[i+1][j] = ans1\n",
    "        else:\n",
    "            ans1 = dp[i+1][j]\n",
    "\n",
    "        if dp[i][j+1] == -1: \n",
    "            ans2 = lcs(s, t, i, j+1, dp)\n",
    "            dp[i][j+1] = ans2\n",
    "        else:\n",
    "            ans2 = dp[i][j+1]\n",
    "        ans = max(ans1, ans2)\n",
    "    return ans\n",
    "\n",
    "    # Your code goes here\n",
    "\n",
    "    # main\n",
    "s = str(stdin.readline().rstrip())\n",
    "t = str(stdin.readline().rstrip())\n",
    "n = len(s)\n",
    "m = len(t)\n",
    "dp = [[-1 for j in range(m+1)] for i in range(n+1)]\n",
    "ans = lcs(s, t, 0, 0, dp)\n",
    "print(ans)"
   ]
  },
  {
   "cell_type": "markdown",
   "metadata": {},
   "source": [
    "0 1 Knapsack - Problem"
   ]
  },
  {
   "cell_type": "code",
   "execution_count": null,
   "metadata": {},
   "outputs": [],
   "source": [
    "from sys import stdin\n",
    "\n",
    "\n",
    "def knapsack(weights, values, n, maxWeight, i):\n",
    "    if i == n:\n",
    "        return 0\n",
    "\n",
    "    if weights[i] > maxWeight:\n",
    "        ans = knapsack(weights, values, n, maxWeight, i+1)\n",
    "\n",
    "    else:\n",
    "        ans1 = values[i] + knapsack(weights, values, n, maxWeight - weights[i], i+1)\n",
    "        ans2 = knapsack(weights, values, n, maxWeight, i+1)\n",
    "        ans = max(ans1, ans2)\n",
    "    return ans\n",
    "\n",
    "\n",
    "def takeInput():\n",
    "    n = int(stdin.readline().rstrip())\n",
    "\n",
    "    if n == 0:\n",
    "        return list(), list(), n, 0\n",
    "\n",
    "    weights = list(map(int, stdin.readline().rstrip().split(\" \")))\n",
    "    values = list(map(int, stdin.readline().rstrip().split(\" \")))\n",
    "    maxWeight = int(stdin.readline().rstrip())\n",
    "\n",
    "    return weights, values, n, maxWeight\n",
    "\n",
    "\n",
    "# main\n",
    "weights, values, n, maxWeight = takeInput()\n",
    "ans = knapsack(weights, values, n, maxWeight, 0)\n",
    "print(ans)"
   ]
  },
  {
   "cell_type": "markdown",
   "metadata": {},
   "source": [
    "Matrix Chain Multiplication"
   ]
  },
  {
   "cell_type": "code",
   "execution_count": null,
   "metadata": {},
   "outputs": [],
   "source": [
    "import sys\n",
    "from sys import stdin\n",
    "\n",
    "\n",
    "def mcm(p, i, j, dp):\n",
    "    if i == j:\n",
    "        return 0\n",
    "\n",
    "    min_Value = sys.maxsize\n",
    "    for k in range(i, j):\n",
    "\n",
    "        if dp[i][k] == -1:\n",
    "            ans1 = mcm(p, i, k, dp)\n",
    "            dp[i][k] = ans1\n",
    "        else:\n",
    "            ans1 = dp[i][k]\n",
    "\n",
    "        if dp[k+1][j] == -1:\n",
    "            ans2 = mcm(p, k+1, j, dp)\n",
    "            dp[k+1][j] = ans2\n",
    "\n",
    "        else:\n",
    "            ans2 = dp[k+1][j]\n",
    "\n",
    "        mCost = p[i-1]*p[k]*p[j]\n",
    "        currentValue = ans1 + ans2 + mCost\n",
    "        min_Value = min(min_Value, currentValue)\n",
    "    return min_Value\n",
    "\n",
    "\n",
    "n = int(stdin.readline().strip())\n",
    "p = [int(i) for i in stdin.readline().strip().split()]\n",
    "dp = [[-1 for j in range(n+1)] for i in range(n+1)]\n",
    "ans = mcm(p, 1, n, dp)\n",
    "print(ans)"
   ]
  },
  {
   "cell_type": "code",
   "execution_count": null,
   "metadata": {},
   "outputs": [],
   "source": []
  }
 ],
 "metadata": {
  "kernelspec": {
   "display_name": "Python 3",
   "language": "python",
   "name": "python3"
  },
  "language_info": {
   "codemirror_mode": {
    "name": "ipython",
    "version": 3
   },
   "file_extension": ".py",
   "mimetype": "text/x-python",
   "name": "python",
   "nbconvert_exporter": "python",
   "pygments_lexer": "ipython3",
   "version": "3.8.5"
  }
 },
 "nbformat": 4,
 "nbformat_minor": 4
}
