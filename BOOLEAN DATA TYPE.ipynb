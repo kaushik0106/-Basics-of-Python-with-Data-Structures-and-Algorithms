{
 "cells": [
  {
   "cell_type": "markdown",
   "metadata": {},
   "source": [
    "Q.A company decided to give bonus of 5% to employee if his/her year of service is more than 5 years.\n",
    "Ask user for their salary and year of service and print the net bonus amount."
   ]
  },
  {
   "cell_type": "code",
   "execution_count": 3,
   "metadata": {},
   "outputs": [
    {
     "name": "stdout",
     "output_type": "stream",
     "text": [
      "salary\n",
      "10000\n",
      "year of service\n",
      "4\n",
      "you r not eligible for the increament\n"
     ]
    }
   ],
   "source": [
    "print(\"salary\")\n",
    "salary=int(input())\n",
    "print(\"year of service\")\n",
    "year=int(input())\n",
    "if year>=5:\n",
    "    print(\"5% increment in the salary\")\n",
    "else:\n",
    "    print(\"you r not eligible for the increament\")"
   ]
  },
  {
   "cell_type": "markdown",
   "metadata": {},
   "source": [
    "Q.Take values of length and breadth of a rectangle from user and check if it is square or not"
   ]
  },
  {
   "cell_type": "code",
   "execution_count": 11,
   "metadata": {},
   "outputs": [
    {
     "name": "stdout",
     "output_type": "stream",
     "text": [
      "enter the length of rectangle\n",
      "5\n",
      "enter the breadth of the reactangle\n",
      "5\n",
      "rectangle is a square\n"
     ]
    }
   ],
   "source": [
    "print(\"enter the length of rectangle\")\n",
    "length=int(input())\n",
    "print(\"enter the breadth of the reactangle\")\n",
    "breadth=int(input())\n",
    "area=length*breadth\n",
    "if length==breadth:\n",
    "    print(\"rectangle is a square\")\n",
    "else:\n",
    "    print(\"its a rectangle\",length*breadth,\"cm^2\")"
   ]
  },
  {
   "cell_type": "markdown",
   "metadata": {},
   "source": [
    "Take two int values from user and print greatest among them."
   ]
  },
  {
   "cell_type": "code",
   "execution_count": 12,
   "metadata": {},
   "outputs": [
    {
     "name": "stdout",
     "output_type": "stream",
     "text": [
      "enter the first Number\n",
      "5\n",
      "enter the second Number\n",
      "6\n",
      "second number is greater than first number\n"
     ]
    }
   ],
   "source": [
    "print(\"enter the first Number\")\n",
    "first=int(input())\n",
    "print(\"enter the second Number\")\n",
    "second=int(input())\n",
    "if first>second:\n",
    "    print(\"first number is greater than second number\")\n",
    "else:\n",
    "    print(\"second number is greater than first number\")"
   ]
  },
  {
   "cell_type": "markdown",
   "metadata": {},
   "source": [
    "A shop will give discount of 10% if the cost of purchased quantity is more than 1000.\n",
    "Ask user for quantity\n",
    "Suppose, one unit will cost 100.\n",
    "Judge and print total cost for user."
   ]
  },
  {
   "cell_type": "code",
   "execution_count": 20,
   "metadata": {},
   "outputs": [
    {
     "name": "stdout",
     "output_type": "stream",
     "text": [
      "enter the quantity\n",
      "110\n",
      "9900.0\n"
     ]
    }
   ],
   "source": [
    "print(\"enter the quantity\")\n",
    "quantity=int(input())\n",
    "if quantity*100>1000:\n",
    "    print((quantity*100)-(0.1*quantity*100))\n",
    "else:\n",
    "    print(quantity*100)"
   ]
  },
  {
   "cell_type": "markdown",
   "metadata": {},
   "source": [
    "A school has following rules for grading system:\n",
    "a. Below 25 - F\n",
    "b. 25 to 45 - E\n",
    "c. 45 to 50 - D\n",
    "d. 50 to 60 - C\n",
    "e. 60 to 80 - B\n",
    "f. Above 80 - A\n",
    "Ask user to enter marks and print the corresponding grade."
   ]
  },
  {
   "cell_type": "code",
   "execution_count": 32,
   "metadata": {},
   "outputs": [
    {
     "name": "stdout",
     "output_type": "stream",
     "text": [
      "Enter the marks\n",
      "51\n",
      "C\n"
     ]
    }
   ],
   "source": [
    "print(\"Enter the marks\")\n",
    "marks=int(input())\n",
    "if marks>80:\n",
    "    print(\"A\")\n",
    "elif marks<=80 and marks>60:\n",
    "    print(\"B\")\n",
    "elif  marks<=60 and marks>50:\n",
    "    print(\"C\")\n",
    "elif  marks <=50 and marks>45:\n",
    "    print(\"D\")\n",
    "elif marks<=45 and marks>25:\n",
    "    print('E')\n",
    "else:\n",
    "    print(\"F\")"
   ]
  },
  {
   "cell_type": "markdown",
   "metadata": {},
   "source": [
    "Q.Take input of age of 3 people by user and determine oldest and youngest among them."
   ]
  },
  {
   "cell_type": "code",
   "execution_count": 38,
   "metadata": {},
   "outputs": [
    {
     "name": "stdout",
     "output_type": "stream",
     "text": [
      "Enter the age of first person\n",
      "65\n",
      "Enter the age of second person\n",
      "55\n",
      "Enter the age of third person\n",
      "40\n",
      "first person is the oldest and third person is youngets\n"
     ]
    }
   ],
   "source": [
    "print(\"Enter the age of first person\")\n",
    "first=int(input())\n",
    "print(\"Enter the age of second person\")\n",
    "second=int(input())\n",
    "print(\"Enter the age of third person\")\n",
    "third=int(input())\n",
    "if first > second and first >third and second >third:\n",
    "    print (\"first person is the oldest\",\"and\",\"third person is youngets\")\n",
    "elif second >first and second > third:\n",
    "    print(\"second person is oldest\")\n",
    "elif third>first and third > second:\n",
    "    print(\"third person is oldest\")\n",
    "else:\n",
    "    print('all are same age')"
   ]
  },
  {
   "cell_type": "markdown",
   "metadata": {},
   "source": [
    "Q.Write a program to print absolute vlaue of a number entered by user. E.g.-\n",
    "INPUT: 1        OUTPUT: 1\n",
    "INPUT: -1        OUTPUT: 1"
   ]
  },
  {
   "cell_type": "code",
   "execution_count": 41,
   "metadata": {},
   "outputs": [
    {
     "name": "stdout",
     "output_type": "stream",
     "text": [
      "INPUT\n",
      "-1\n",
      "OUTPUT -1\n"
     ]
    }
   ],
   "source": [
    "print(\"INPUT\")\n",
    "\n",
    "INPUT=int(input())\n",
    "if INPUT>1:\n",
    "    print(\"OUTPUT 1\")\n",
    "else:\n",
    "    print(\"OUTPUT -1\")\n",
    "    "
   ]
  },
  {
   "cell_type": "markdown",
   "metadata": {},
   "source": [
    "Q.Given an integer n, find if n is positive, negative or 0.\n",
    "  If n is positive, print \"Positive\"\n",
    "  If n is negative, print \"Negative\"\n",
    "  And if n is equal to 0, print \"Zero\"."
   ]
  },
  {
   "cell_type": "code",
   "execution_count": 44,
   "metadata": {},
   "outputs": [
    {
     "name": "stdout",
     "output_type": "stream",
     "text": [
      "5\n",
      "positive\n"
     ]
    }
   ],
   "source": [
    "n=int(input())\n",
    "if n>=1:\n",
    "    print(\"positive\")\n",
    "elif n==0:\n",
    "    print(\"Zero\")\n",
    "else:\n",
    "    print(\"Negative\")"
   ]
  },
  {
   "cell_type": "markdown",
   "metadata": {},
   "source": [
    "Given an integer n, find and print the sum of numbers from 1 to n."
   ]
  },
  {
   "cell_type": "code",
   "execution_count": 45,
   "metadata": {},
   "outputs": [
    {
     "name": "stdout",
     "output_type": "stream",
     "text": [
      "2\n",
      "3\n"
     ]
    }
   ],
   "source": [
    "n=int(input())\n",
    "i=1\n",
    "sum=0\n",
    "while i<=n:\n",
    "    sum=sum+i\n",
    "    i=i+1\n",
    "print(sum)"
   ]
  },
  {
   "cell_type": "markdown",
   "metadata": {},
   "source": [
    "Q.Given a number N, print sum of all even numbers from 1 to N."
   ]
  },
  {
   "cell_type": "code",
   "execution_count": 53,
   "metadata": {},
   "outputs": [
    {
     "name": "stdout",
     "output_type": "stream",
     "text": [
      "6\n",
      "12\n"
     ]
    }
   ],
   "source": [
    "n = int(input())\n",
    "i = 2\n",
    "sum = 0\n",
    "while (i<=n):\n",
    "    sum=sum+i\n",
    "    i=i + 2\n",
    "print(sum)"
   ]
  },
  {
   "cell_type": "markdown",
   "metadata": {},
   "source": [
    "Q.Fahrenheit to Celsius (32°F − 32) × 5/9 = 0°C\n"
   ]
  },
  {
   "cell_type": "code",
   "execution_count": 60,
   "metadata": {},
   "outputs": [
    {
     "name": "stdout",
     "output_type": "stream",
     "text": [
      "Enter the fahrenheit\n",
      "100\n",
      "37.77777777777778 C\n"
     ]
    }
   ],
   "source": [
    "print(\"Enter the fahrenheit\")\n",
    "F=int(input())\n",
    "F_to_C=((F-32)*5)/9\n",
    "print(F_to_C,\"C\")"
   ]
  },
  {
   "cell_type": "markdown",
   "metadata": {},
   "source": [
    "Q.Write a program that performs the tasks of a simple calculator. The program should first take an integer as input and then based on that integer perform the task as given below."
   ]
  },
  {
   "cell_type": "code",
   "execution_count": 67,
   "metadata": {},
   "outputs": [
    {
     "ename": "KeyboardInterrupt",
     "evalue": "Interrupted by user",
     "output_type": "error",
     "traceback": [
      "\u001b[1;31m---------------------------------------------------------------------------\u001b[0m",
      "\u001b[1;31mKeyboardInterrupt\u001b[0m                         Traceback (most recent call last)",
      "\u001b[1;32m<ipython-input-67-d1d0b6e6a069>\u001b[0m in \u001b[0;36m<module>\u001b[1;34m\u001b[0m\n\u001b[0;32m      1\u001b[0m \u001b[1;32mwhile\u001b[0m \u001b[1;32mTrue\u001b[0m\u001b[1;33m:\u001b[0m\u001b[1;33m\u001b[0m\u001b[1;33m\u001b[0m\u001b[0m\n\u001b[1;32m----> 2\u001b[1;33m     \u001b[0mn\u001b[0m\u001b[1;33m=\u001b[0m\u001b[0mint\u001b[0m\u001b[1;33m(\u001b[0m\u001b[0minput\u001b[0m\u001b[1;33m(\u001b[0m\u001b[1;33m)\u001b[0m\u001b[1;33m)\u001b[0m\u001b[1;33m\u001b[0m\u001b[1;33m\u001b[0m\u001b[0m\n\u001b[0m\u001b[0;32m      3\u001b[0m     \u001b[1;32mif\u001b[0m \u001b[0mn\u001b[0m\u001b[1;33m==\u001b[0m\u001b[1;36m1\u001b[0m\u001b[1;33m:\u001b[0m\u001b[1;33m\u001b[0m\u001b[1;33m\u001b[0m\u001b[0m\n\u001b[0;32m      4\u001b[0m         \u001b[0mn1\u001b[0m\u001b[1;33m=\u001b[0m\u001b[0mint\u001b[0m\u001b[1;33m(\u001b[0m\u001b[0minput\u001b[0m\u001b[1;33m(\u001b[0m\u001b[1;33m)\u001b[0m\u001b[1;33m)\u001b[0m\u001b[1;33m\u001b[0m\u001b[1;33m\u001b[0m\u001b[0m\n\u001b[0;32m      5\u001b[0m         \u001b[0mn2\u001b[0m\u001b[1;33m=\u001b[0m\u001b[0mint\u001b[0m\u001b[1;33m(\u001b[0m\u001b[0minput\u001b[0m\u001b[1;33m(\u001b[0m\u001b[1;33m)\u001b[0m\u001b[1;33m)\u001b[0m\u001b[1;33m\u001b[0m\u001b[1;33m\u001b[0m\u001b[0m\n",
      "\u001b[1;32m~\\anaconda3\\lib\\site-packages\\ipykernel\\kernelbase.py\u001b[0m in \u001b[0;36mraw_input\u001b[1;34m(self, prompt)\u001b[0m\n\u001b[0;32m    858\u001b[0m                 \u001b[1;34m\"raw_input was called, but this frontend does not support input requests.\"\u001b[0m\u001b[1;33m\u001b[0m\u001b[1;33m\u001b[0m\u001b[0m\n\u001b[0;32m    859\u001b[0m             )\n\u001b[1;32m--> 860\u001b[1;33m         return self._input_request(str(prompt),\n\u001b[0m\u001b[0;32m    861\u001b[0m             \u001b[0mself\u001b[0m\u001b[1;33m.\u001b[0m\u001b[0m_parent_ident\u001b[0m\u001b[1;33m,\u001b[0m\u001b[1;33m\u001b[0m\u001b[1;33m\u001b[0m\u001b[0m\n\u001b[0;32m    862\u001b[0m             \u001b[0mself\u001b[0m\u001b[1;33m.\u001b[0m\u001b[0m_parent_header\u001b[0m\u001b[1;33m,\u001b[0m\u001b[1;33m\u001b[0m\u001b[1;33m\u001b[0m\u001b[0m\n",
      "\u001b[1;32m~\\anaconda3\\lib\\site-packages\\ipykernel\\kernelbase.py\u001b[0m in \u001b[0;36m_input_request\u001b[1;34m(self, prompt, ident, parent, password)\u001b[0m\n\u001b[0;32m    902\u001b[0m             \u001b[1;32mexcept\u001b[0m \u001b[0mKeyboardInterrupt\u001b[0m\u001b[1;33m:\u001b[0m\u001b[1;33m\u001b[0m\u001b[1;33m\u001b[0m\u001b[0m\n\u001b[0;32m    903\u001b[0m                 \u001b[1;31m# re-raise KeyboardInterrupt, to truncate traceback\u001b[0m\u001b[1;33m\u001b[0m\u001b[1;33m\u001b[0m\u001b[1;33m\u001b[0m\u001b[0m\n\u001b[1;32m--> 904\u001b[1;33m                 \u001b[1;32mraise\u001b[0m \u001b[0mKeyboardInterrupt\u001b[0m\u001b[1;33m(\u001b[0m\u001b[1;34m\"Interrupted by user\"\u001b[0m\u001b[1;33m)\u001b[0m \u001b[1;32mfrom\u001b[0m \u001b[1;32mNone\u001b[0m\u001b[1;33m\u001b[0m\u001b[1;33m\u001b[0m\u001b[0m\n\u001b[0m\u001b[0;32m    905\u001b[0m             \u001b[1;32mexcept\u001b[0m \u001b[0mException\u001b[0m \u001b[1;32mas\u001b[0m \u001b[0me\u001b[0m\u001b[1;33m:\u001b[0m\u001b[1;33m\u001b[0m\u001b[1;33m\u001b[0m\u001b[0m\n\u001b[0;32m    906\u001b[0m                 \u001b[0mself\u001b[0m\u001b[1;33m.\u001b[0m\u001b[0mlog\u001b[0m\u001b[1;33m.\u001b[0m\u001b[0mwarning\u001b[0m\u001b[1;33m(\u001b[0m\u001b[1;34m\"Invalid Message:\"\u001b[0m\u001b[1;33m,\u001b[0m \u001b[0mexc_info\u001b[0m\u001b[1;33m=\u001b[0m\u001b[1;32mTrue\u001b[0m\u001b[1;33m)\u001b[0m\u001b[1;33m\u001b[0m\u001b[1;33m\u001b[0m\u001b[0m\n",
      "\u001b[1;31mKeyboardInterrupt\u001b[0m: Interrupted by user"
     ]
    }
   ],
   "source": [
    "while True:\n",
    "    n=int(input())\n",
    "    if n==1:\n",
    "        n1=int(input())\n",
    "        n2=int(input())\n",
    "        print(n1+n2)\n",
    "    elif n==2:\n",
    "        n1=int(input())\n",
    "        n2=int(input())\n",
    "        print(n1-n2)\n",
    "    elif n==3:\n",
    "        n1=int(input())\n",
    "        n2=int(input())\n",
    "        print(n1*n2)\n",
    "    elif n==4:\n",
    "        n1=int(input())\n",
    "        n2=int(input())\n",
    "        print(n1/n2)\n",
    "    elif n==5:\n",
    "        n1=int(input())\n",
    "        n2=int(input())\n",
    "        print(n1//n2)\n",
    "    elif n==6:\n",
    "        exit()\n",
    "    else:\n",
    "        print(\"invalid operatin\")\n",
    "        "
   ]
  },
  {
   "cell_type": "markdown",
   "metadata": {},
   "source": [
    "Q.Write a program to generate the reverse of a given number N. Print the corresponding reverse number."
   ]
  },
  {
   "cell_type": "code",
   "execution_count": 66,
   "metadata": {},
   "outputs": [
    {
     "name": "stdout",
     "output_type": "stream",
     "text": [
      "Enter the Number\n",
      "1234\n",
      "4321\n"
     ]
    }
   ],
   "source": [
    "print(\"Enter the Number\")\n",
    "n=int(input())\n",
    "reverse=0\n",
    "while n>0:\n",
    "    reverse=(reverse*10)+n%10\n",
    "    n=n//10\n",
    "print(reverse)\n"
   ]
  },
  {
   "cell_type": "markdown",
   "metadata": {},
   "source": [
    "Q.Write a program to determine if given number is palindrome or not. Print true if it is palindrome, false otherwise."
   ]
  },
  {
   "cell_type": "code",
   "execution_count": 69,
   "metadata": {},
   "outputs": [
    {
     "name": "stdout",
     "output_type": "stream",
     "text": [
      "121\n",
      "121\n",
      "its a palidrome\n"
     ]
    }
   ],
   "source": [
    "n=int(input())\n",
    "rev=0\n",
    "x=n\n",
    "while n>0:\n",
    "    rev=(rev*10)+n%10\n",
    "    n=n//10\n",
    "print(rev)\n",
    "if x==rev:\n",
    "    print(\"its a palidrome\")\n",
    "else:\n",
    "    print(\"its not a palidrome\")"
   ]
  },
  {
   "cell_type": "markdown",
   "metadata": {},
   "source": [
    "Q.Write a program to input an integer N and print the sum of all its even digits and sum of all its odd digits separately."
   ]
  },
  {
   "cell_type": "code",
   "execution_count": 75,
   "metadata": {
    "scrolled": true
   },
   "outputs": [
    {
     "name": "stdout",
     "output_type": "stream",
     "text": [
      "1234\n",
      "6 4\n"
     ]
    }
   ],
   "source": [
    "n=int(input())\n",
    "sum_of_even=0\n",
    "sum_of_odd=0\n",
    "while n>0:\n",
    "    r=(n%10)\n",
    "    if r%2==0:\n",
    "        sum_of_even=sum_of_even+r\n",
    "    else:\n",
    "        sum_of_odd=sum_of_odd+r\n",
    "    n=n//10\n",
    "print(sum_of_even,sum_of_odd)\n",
    "    "
   ]
  },
  {
   "cell_type": "markdown",
   "metadata": {},
   "source": [
    "Q.Nth term of Fibonacci series F(n), where F(n) is a function, is calculated using the following formula -"
   ]
  },
  {
   "cell_type": "code",
   "execution_count": 79,
   "metadata": {},
   "outputs": [
    {
     "name": "stdout",
     "output_type": "stream",
     "text": [
      "10\n",
      "0\n",
      "1\n",
      "1\n",
      "2\n",
      "3\n",
      "5\n",
      "8\n",
      "13\n"
     ]
    }
   ],
   "source": [
    "n=int(input())\n",
    "x=0\n",
    "y=1\n",
    "z=0\n",
    "while (z<=n):\n",
    "    print(z)\n",
    "    x=y\n",
    "    y=z\n",
    "    z=x+y\n",
    "    "
   ]
  }
 ],
 "metadata": {
  "kernelspec": {
   "display_name": "Python 3",
   "language": "python",
   "name": "python3"
  },
  "language_info": {
   "codemirror_mode": {
    "name": "ipython",
    "version": 3
   },
   "file_extension": ".py",
   "mimetype": "text/x-python",
   "name": "python",
   "nbconvert_exporter": "python",
   "pygments_lexer": "ipython3",
   "version": "3.8.5"
  }
 },
 "nbformat": 4,
 "nbformat_minor": 4
}
