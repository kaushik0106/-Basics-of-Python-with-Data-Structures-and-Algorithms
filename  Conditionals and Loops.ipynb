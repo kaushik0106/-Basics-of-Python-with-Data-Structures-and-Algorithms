{
 "cells": [
  {
   "cell_type": "markdown",
   "metadata": {},
   "source": [
    "Check number"
   ]
  },
  {
   "cell_type": "code",
   "execution_count": null,
   "metadata": {},
   "outputs": [],
   "source": [
    "n = int(input())\n",
    "if n>0:\n",
    "    print(\"Positive\")\n",
    "elif n==0:\n",
    "     print(\"Zero\")\n",
    "else:\n",
    "    print(\"Negative\")\n"
   ]
  },
  {
   "cell_type": "markdown",
   "metadata": {},
   "source": [
    "Sum of n numbers"
   ]
  },
  {
   "cell_type": "code",
   "execution_count": null,
   "metadata": {},
   "outputs": [],
   "source": [
    "n = int(input())\n",
    "i = 1\n",
    "sum = 0\n",
    "while(i<=n):\n",
    "    sum = sum + i\n",
    "    i = i + 1\n",
    "print(sum)"
   ]
  },
  {
   "cell_type": "markdown",
   "metadata": {},
   "source": [
    "Sum of Even Numbers"
   ]
  },
  {
   "cell_type": "code",
   "execution_count": null,
   "metadata": {},
   "outputs": [],
   "source": [
    "n = int(input())\n",
    "i = 2\n",
    "sum = 0\n",
    "while(i<=n):\n",
    "    sum = sum + i\n",
    "    i = i + 2\n",
    "print(sum)"
   ]
  },
  {
   "cell_type": "markdown",
   "metadata": {},
   "source": [
    "Fahrenheit to Celsius"
   ]
  },
  {
   "cell_type": "code",
   "execution_count": null,
   "metadata": {},
   "outputs": [],
   "source": [
    "S = int(input())\n",
    "E = int(input())\n",
    "W = int(input())\n",
    "while S <= E:\n",
    "    S_to_C = (((S - 32) * 5) / 9)\n",
    "    print(S, int(S_to_C))\n",
    "    S = S + W\n",
    "\n"
   ]
  },
  {
   "cell_type": "markdown",
   "metadata": {},
   "source": [
    "Calculator"
   ]
  },
  {
   "cell_type": "code",
   "execution_count": null,
   "metadata": {},
   "outputs": [],
   "source": [
    "while True:\n",
    "    n = int(input())\n",
    "    if n == 1:\n",
    "        n1 = int(input())\n",
    "        n2 = int(input())\n",
    "        print(int(n1+n2))\n",
    "    elif n == 2:\n",
    "        n1 = int(input())\n",
    "        n2 = int(input())\n",
    "        print(int(n1-n2))\n",
    "    elif n == 3:\n",
    "        n1 = int(input())\n",
    "        n2 = int(input())\n",
    "        print(int(n1*n2))\n",
    "    elif n == 4:\n",
    "        n1 = int(input())\n",
    "        n2 = int(input())\n",
    "        print(int(n1/n2))\n",
    "    elif n == 5:\n",
    "        n1 = int(input())\n",
    "        n2 = int(input())\n",
    "        print(int(n1//n2))\n",
    "    elif n == 6:\n",
    "        exit()\n",
    "    else:\n",
    "        print(\"Invalid Operation\")\n",
    "        "
   ]
  },
  {
   "cell_type": "markdown",
   "metadata": {},
   "source": [
    "Reverse of a number"
   ]
  },
  {
   "cell_type": "code",
   "execution_count": null,
   "metadata": {},
   "outputs": [],
   "source": [
    "n = int(input())\n",
    "reverse=0\n",
    "while(n>0):\n",
    "    reverse=(reverse*10)+n%10\n",
    "    n=n//10\t\n",
    "print(reverse)"
   ]
  },
  {
   "cell_type": "code",
   "execution_count": null,
   "metadata": {},
   "outputs": [],
   "source": [
    "Palindrome number"
   ]
  },
  {
   "cell_type": "code",
   "execution_count": null,
   "metadata": {},
   "outputs": [],
   "source": [
    "i=int(input())\n",
    "rev=0\n",
    "x=i\n",
    "while(i>0):\n",
    "    rev=(rev*10)+i%10\n",
    "    i=i//10\n",
    "if(x==rev):\n",
    "    print(\"true\")\n",
    "else:\n",
    "    print(\"false\")\n",
    "    "
   ]
  },
  {
   "cell_type": "markdown",
   "metadata": {},
   "source": [
    "Sum of even & odd"
   ]
  },
  {
   "cell_type": "code",
   "execution_count": null,
   "metadata": {},
   "outputs": [],
   "source": [
    "n = int(input())\n",
    "sum_of_even = 0\n",
    "sum_of_odd = 0\n",
    "while n > 0:\n",
    "    r = (n%10)\n",
    "    if r % 2 == 0:\n",
    "        sum_of_even = sum_of_even + r\n",
    "    else:\n",
    "        sum_of_odd = sum_of_odd + r\n",
    "    n = (n // 10) \n",
    "print(sum_of_even,sum_of_odd)"
   ]
  },
  {
   "cell_type": "markdown",
   "metadata": {},
   "source": [
    "Nth Fibonacci Number"
   ]
  },
  {
   "cell_type": "code",
   "execution_count": null,
   "metadata": {},
   "outputs": [],
   "source": [
    "n=int(input())\n",
    "a=0\n",
    "b=1\n",
    "c=-1\n",
    "for i in range(n):\n",
    "    c=a+b \n",
    "    a=b\n",
    "    b=c\n",
    "print(a)"
   ]
  }
 ],
 "metadata": {
  "kernelspec": {
   "display_name": "Python 3",
   "language": "python",
   "name": "python3"
  },
  "language_info": {
   "codemirror_mode": {
    "name": "ipython",
    "version": 3
   },
   "file_extension": ".py",
   "mimetype": "text/x-python",
   "name": "python",
   "nbconvert_exporter": "python",
   "pygments_lexer": "ipython3",
   "version": "3.8.5"
  }
 },
 "nbformat": 4,
 "nbformat_minor": 4
}
